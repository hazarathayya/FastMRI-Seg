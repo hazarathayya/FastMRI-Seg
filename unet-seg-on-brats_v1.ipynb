{
 "cells": [
  {
   "cell_type": "code",
   "execution_count": 1,
   "id": "7ca9b8d3",
   "metadata": {
    "execution": {
     "iopub.execute_input": "2025-08-04T10:01:55.501261Z",
     "iopub.status.busy": "2025-08-04T10:01:55.500859Z",
     "iopub.status.idle": "2025-08-04T10:03:14.483939Z",
     "shell.execute_reply": "2025-08-04T10:03:14.483005Z"
    },
    "id": "Ea-HRp2U1pvk",
    "outputId": "f9825720-d751-4e1e-ffb5-d83605796327",
    "papermill": {
     "duration": 78.992815,
     "end_time": "2025-08-04T10:03:14.485556",
     "exception": false,
     "start_time": "2025-08-04T10:01:55.492741",
     "status": "completed"
    },
    "tags": []
   },
   "outputs": [
    {
     "name": "stdout",
     "output_type": "stream",
     "text": [
      "  Installing build dependencies ... \u001b[?25l\u001b[?25hdone\r\n",
      "  Getting requirements to build wheel ... \u001b[?25l\u001b[?25hdone\r\n",
      "  Preparing metadata (pyproject.toml) ... \u001b[?25l\u001b[?25hdone\r\n",
      "\u001b[2K   \u001b[90m━━━━━━━━━━━━━━━━━━━━━━━━━━━━━━━━━━━━━━━━\u001b[0m \u001b[32m363.4/363.4 MB\u001b[0m \u001b[31m4.7 MB/s\u001b[0m eta \u001b[36m0:00:00\u001b[0m\r\n",
      "\u001b[2K   \u001b[90m━━━━━━━━━━━━━━━━━━━━━━━━━━━━━━━━━━━━━━━━\u001b[0m \u001b[32m13.8/13.8 MB\u001b[0m \u001b[31m97.4 MB/s\u001b[0m eta \u001b[36m0:00:00\u001b[0m\r\n",
      "\u001b[2K   \u001b[90m━━━━━━━━━━━━━━━━━━━━━━━━━━━━━━━━━━━━━━━━\u001b[0m \u001b[32m24.6/24.6 MB\u001b[0m \u001b[31m76.6 MB/s\u001b[0m eta \u001b[36m0:00:00\u001b[0m\r\n",
      "\u001b[2K   \u001b[90m━━━━━━━━━━━━━━━━━━━━━━━━━━━━━━━━━━━━━━━━\u001b[0m \u001b[32m883.7/883.7 kB\u001b[0m \u001b[31m42.0 MB/s\u001b[0m eta \u001b[36m0:00:00\u001b[0m\r\n",
      "\u001b[2K   \u001b[90m━━━━━━━━━━━━━━━━━━━━━━━━━━━━━━━━━━━━━━━━\u001b[0m \u001b[32m664.8/664.8 MB\u001b[0m \u001b[31m2.3 MB/s\u001b[0m eta \u001b[36m0:00:00\u001b[0m\r\n",
      "\u001b[2K   \u001b[90m━━━━━━━━━━━━━━━━━━━━━━━━━━━━━━━━━━━━━━━━\u001b[0m \u001b[32m211.5/211.5 MB\u001b[0m \u001b[31m2.2 MB/s\u001b[0m eta \u001b[36m0:00:00\u001b[0m\r\n",
      "\u001b[2K   \u001b[90m━━━━━━━━━━━━━━━━━━━━━━━━━━━━━━━━━━━━━━━━\u001b[0m \u001b[32m56.3/56.3 MB\u001b[0m \u001b[31m31.9 MB/s\u001b[0m eta \u001b[36m0:00:00\u001b[0m\r\n",
      "\u001b[2K   \u001b[90m━━━━━━━━━━━━━━━━━━━━━━━━━━━━━━━━━━━━━━━━\u001b[0m \u001b[32m127.9/127.9 MB\u001b[0m \u001b[31m13.6 MB/s\u001b[0m eta \u001b[36m0:00:00\u001b[0m\r\n",
      "\u001b[2K   \u001b[90m━━━━━━━━━━━━━━━━━━━━━━━━━━━━━━━━━━━━━━━━\u001b[0m \u001b[32m207.5/207.5 MB\u001b[0m \u001b[31m8.3 MB/s\u001b[0m eta \u001b[36m0:00:00\u001b[0m\r\n",
      "\u001b[2K   \u001b[90m━━━━━━━━━━━━━━━━━━━━━━━━━━━━━━━━━━━━━━━━\u001b[0m \u001b[32m21.1/21.1 MB\u001b[0m \u001b[31m84.6 MB/s\u001b[0m eta \u001b[36m0:00:00\u001b[0m\r\n",
      "\u001b[?25h  Building wheel for segmentation_models_pytorch (pyproject.toml) ... \u001b[?25l\u001b[?25hdone\r\n"
     ]
    }
   ],
   "source": [
    "! pip -q install git+https://github.com/qubvel/segmentation_models.pytorch"
   ]
  },
  {
   "cell_type": "code",
   "execution_count": 2,
   "id": "7db3feab",
   "metadata": {
    "execution": {
     "iopub.execute_input": "2025-08-04T10:03:14.535028Z",
     "iopub.status.busy": "2025-08-04T10:03:14.534786Z",
     "iopub.status.idle": "2025-08-04T10:03:31.926814Z",
     "shell.execute_reply": "2025-08-04T10:03:31.926197Z"
    },
    "id": "vrBtuVpy1tOL",
    "papermill": {
     "duration": 17.418364,
     "end_time": "2025-08-04T10:03:31.928322",
     "exception": false,
     "start_time": "2025-08-04T10:03:14.509958",
     "status": "completed"
    },
    "tags": []
   },
   "outputs": [],
   "source": [
    "import segmentation_models_pytorch as smp\n",
    "from segmentation_models_pytorch import utils\n",
    "import os\n",
    "import matplotlib.pyplot as plt\n",
    "from PIL import Image\n",
    "import numpy as np\n",
    "from google.colab import drive\n",
    "import torch\n",
    "from torch.utils.data import Dataset, DataLoader\n",
    "from torchvision import transforms, utils\n",
    "import torch.nn as nn\n",
    "import torch.optim as optim\n",
    "from torch.optim import lr_scheduler\n",
    "import time\n",
    "import albumentations as A\n",
    "import torch.nn.functional as F\n",
    "import pandas as pd\n",
    "import nibabel as nib\n",
    "from tqdm import tqdm"
   ]
  },
  {
   "cell_type": "markdown",
   "id": "6e6756da",
   "metadata": {
    "id": "ioisa0vvGYBe",
    "papermill": {
     "duration": 0.022973,
     "end_time": "2025-08-04T10:03:32.028326",
     "exception": false,
     "start_time": "2025-08-04T10:03:32.005353",
     "status": "completed"
    },
    "tags": []
   },
   "source": [
    "# Extract dataset"
   ]
  },
  {
   "cell_type": "code",
   "execution_count": 7,
   "id": "29dd2582",
   "metadata": {
    "execution": {
     "iopub.execute_input": "2025-08-04T10:03:32.280678Z",
     "iopub.status.busy": "2025-08-04T10:03:32.280430Z",
     "iopub.status.idle": "2025-08-04T10:03:32.283897Z",
     "shell.execute_reply": "2025-08-04T10:03:32.283196Z"
    },
    "papermill": {
     "duration": 0.028926,
     "end_time": "2025-08-04T10:03:32.285093",
     "exception": false,
     "start_time": "2025-08-04T10:03:32.256167",
     "status": "completed"
    },
    "tags": []
   },
   "outputs": [],
   "source": [
    "train_dir = \"/kaggle/input/brats20-dataset-training-validation/BraTS2020_TrainingData/MICCAI_BraTS2020_TrainingData\""
   ]
  },
  {
   "cell_type": "code",
   "execution_count": 8,
   "id": "602885ef",
   "metadata": {
    "execution": {
     "iopub.execute_input": "2025-08-04T10:03:32.334501Z",
     "iopub.status.busy": "2025-08-04T10:03:32.334225Z",
     "iopub.status.idle": "2025-08-04T10:03:32.344620Z",
     "shell.execute_reply": "2025-08-04T10:03:32.343936Z"
    },
    "papermill": {
     "duration": 0.03619,
     "end_time": "2025-08-04T10:03:32.345717",
     "exception": false,
     "start_time": "2025-08-04T10:03:32.309527",
     "status": "completed"
    },
    "tags": []
   },
   "outputs": [
    {
     "data": {
      "text/plain": [
       "['BraTS20_Training_001_t2.nii',\n",
       " 'BraTS20_Training_001_t1ce.nii',\n",
       " 'BraTS20_Training_001_t1.nii',\n",
       " 'BraTS20_Training_001_seg.nii',\n",
       " 'BraTS20_Training_001_flair.nii']"
      ]
     },
     "execution_count": 8,
     "metadata": {},
     "output_type": "execute_result"
    }
   ],
   "source": [
    "import os\n",
    "os.listdir(train_dir + \"/BraTS20_Training_001\")"
   ]
  },
  {
   "cell_type": "code",
   "execution_count": null,
   "id": "2e49a795",
   "metadata": {
    "execution": {
     "iopub.execute_input": "2025-08-04T10:03:32.393757Z",
     "iopub.status.busy": "2025-08-04T10:03:32.393535Z",
     "iopub.status.idle": "2025-08-04T10:03:32.430948Z",
     "shell.execute_reply": "2025-08-04T10:03:32.430262Z"
    },
    "id": "RVG0CTObGHPi",
    "outputId": "25522e4b-5131-4b5b-814e-87756facd778",
    "papermill": {
     "duration": 0.062356,
     "end_time": "2025-08-04T10:03:32.431973",
     "exception": false,
     "start_time": "2025-08-04T10:03:32.369617",
     "status": "completed"
    },
    "tags": []
   },
   "outputs": [
    {
     "data": {
      "text/html": [
       "<div>\n",
       "<style scoped>\n",
       "    .dataframe tbody tr th:only-of-type {\n",
       "        vertical-align: middle;\n",
       "    }\n",
       "\n",
       "    .dataframe tbody tr th {\n",
       "        vertical-align: top;\n",
       "    }\n",
       "\n",
       "    .dataframe thead th {\n",
       "        text-align: right;\n",
       "    }\n",
       "</style>\n",
       "<table border=\"1\" class=\"dataframe\">\n",
       "  <thead>\n",
       "    <tr style=\"text-align: right;\">\n",
       "      <th></th>\n",
       "      <th>Grade</th>\n",
       "      <th>BraTS_2017_subject_ID</th>\n",
       "      <th>BraTS_2018_subject_ID</th>\n",
       "      <th>TCGA_TCIA_subject_ID</th>\n",
       "      <th>BraTS_2019_subject_ID</th>\n",
       "      <th>BraTS_2020_subject_ID</th>\n",
       "    </tr>\n",
       "  </thead>\n",
       "  <tbody>\n",
       "    <tr>\n",
       "      <th>0</th>\n",
       "      <td>HGG</td>\n",
       "      <td>Brats17_CBICA_AAB_1</td>\n",
       "      <td>Brats18_CBICA_AAB_1</td>\n",
       "      <td>NaN</td>\n",
       "      <td>BraTS19_CBICA_AAB_1</td>\n",
       "      <td>BraTS20_Training_001</td>\n",
       "    </tr>\n",
       "    <tr>\n",
       "      <th>1</th>\n",
       "      <td>HGG</td>\n",
       "      <td>Brats17_CBICA_AAG_1</td>\n",
       "      <td>Brats18_CBICA_AAG_1</td>\n",
       "      <td>NaN</td>\n",
       "      <td>BraTS19_CBICA_AAG_1</td>\n",
       "      <td>BraTS20_Training_002</td>\n",
       "    </tr>\n",
       "    <tr>\n",
       "      <th>2</th>\n",
       "      <td>HGG</td>\n",
       "      <td>Brats17_CBICA_AAL_1</td>\n",
       "      <td>Brats18_CBICA_AAL_1</td>\n",
       "      <td>NaN</td>\n",
       "      <td>BraTS19_CBICA_AAL_1</td>\n",
       "      <td>BraTS20_Training_003</td>\n",
       "    </tr>\n",
       "    <tr>\n",
       "      <th>3</th>\n",
       "      <td>HGG</td>\n",
       "      <td>Brats17_CBICA_AAP_1</td>\n",
       "      <td>Brats18_CBICA_AAP_1</td>\n",
       "      <td>NaN</td>\n",
       "      <td>BraTS19_CBICA_AAP_1</td>\n",
       "      <td>BraTS20_Training_004</td>\n",
       "    </tr>\n",
       "    <tr>\n",
       "      <th>4</th>\n",
       "      <td>HGG</td>\n",
       "      <td>Brats17_CBICA_ABB_1</td>\n",
       "      <td>Brats18_CBICA_ABB_1</td>\n",
       "      <td>NaN</td>\n",
       "      <td>BraTS19_CBICA_ABB_1</td>\n",
       "      <td>BraTS20_Training_005</td>\n",
       "    </tr>\n",
       "  </tbody>\n",
       "</table>\n",
       "</div>"
      ],
      "text/plain": [
       "  Grade BraTS_2017_subject_ID BraTS_2018_subject_ID TCGA_TCIA_subject_ID  \\\n",
       "0   HGG   Brats17_CBICA_AAB_1   Brats18_CBICA_AAB_1                  NaN   \n",
       "1   HGG   Brats17_CBICA_AAG_1   Brats18_CBICA_AAG_1                  NaN   \n",
       "2   HGG   Brats17_CBICA_AAL_1   Brats18_CBICA_AAL_1                  NaN   \n",
       "3   HGG   Brats17_CBICA_AAP_1   Brats18_CBICA_AAP_1                  NaN   \n",
       "4   HGG   Brats17_CBICA_ABB_1   Brats18_CBICA_ABB_1                  NaN   \n",
       "\n",
       "  BraTS_2019_subject_ID BraTS_2020_subject_ID  \n",
       "0   BraTS19_CBICA_AAB_1  BraTS20_Training_001  \n",
       "1   BraTS19_CBICA_AAG_1  BraTS20_Training_002  \n",
       "2   BraTS19_CBICA_AAL_1  BraTS20_Training_003  \n",
       "3   BraTS19_CBICA_AAP_1  BraTS20_Training_004  \n",
       "4   BraTS19_CBICA_ABB_1  BraTS20_Training_005  "
      ]
     },
     "execution_count": 9,
     "metadata": {},
     "output_type": "execute_result"
    }
   ],
   "source": [
    "root = train_dir\n",
    "data = pd.read_csv(os.path.join(root, 'name_mapping.csv'))\n",
    "data.head(5)"
   ]
  },
  {
   "cell_type": "code",
   "execution_count": 10,
   "id": "a4467be5",
   "metadata": {
    "execution": {
     "iopub.execute_input": "2025-08-04T10:03:32.481112Z",
     "iopub.status.busy": "2025-08-04T10:03:32.480807Z",
     "iopub.status.idle": "2025-08-04T10:03:32.486863Z",
     "shell.execute_reply": "2025-08-04T10:03:32.486189Z"
    },
    "papermill": {
     "duration": 0.032116,
     "end_time": "2025-08-04T10:03:32.487997",
     "exception": false,
     "start_time": "2025-08-04T10:03:32.455881",
     "status": "completed"
    },
    "tags": []
   },
   "outputs": [
    {
     "data": {
      "text/plain": [
       "Index(['Grade', 'BraTS_2017_subject_ID', 'BraTS_2018_subject_ID',\n",
       "       'TCGA_TCIA_subject_ID', 'BraTS_2019_subject_ID',\n",
       "       'BraTS_2020_subject_ID'],\n",
       "      dtype='object')"
      ]
     },
     "execution_count": 10,
     "metadata": {},
     "output_type": "execute_result"
    }
   ],
   "source": [
    "data.columns"
   ]
  },
  {
   "cell_type": "code",
   "execution_count": 11,
   "id": "8eaa8485",
   "metadata": {
    "execution": {
     "iopub.execute_input": "2025-08-04T10:03:32.536532Z",
     "iopub.status.busy": "2025-08-04T10:03:32.536333Z",
     "iopub.status.idle": "2025-08-04T10:03:32.545306Z",
     "shell.execute_reply": "2025-08-04T10:03:32.544785Z"
    },
    "id": "I49Sl3GpG_p1",
    "outputId": "84bd9d35-c508-47b8-fa43-1d6c84e345a9",
    "papermill": {
     "duration": 0.034626,
     "end_time": "2025-08-04T10:03:32.546392",
     "exception": false,
     "start_time": "2025-08-04T10:03:32.511766",
     "status": "completed"
    },
    "tags": []
   },
   "outputs": [
    {
     "data": {
      "text/plain": [
       "['/kaggle/input/brats20-dataset-training-validation/BraTS2020_TrainingData/MICCAI_BraTS2020_TrainingData/BraTS20_Training_001/BraTS20_Training_001_seg.nii',\n",
       " '/kaggle/input/brats20-dataset-training-validation/BraTS2020_TrainingData/MICCAI_BraTS2020_TrainingData/BraTS20_Training_002/BraTS20_Training_002_seg.nii',\n",
       " '/kaggle/input/brats20-dataset-training-validation/BraTS2020_TrainingData/MICCAI_BraTS2020_TrainingData/BraTS20_Training_003/BraTS20_Training_003_seg.nii',\n",
       " '/kaggle/input/brats20-dataset-training-validation/BraTS2020_TrainingData/MICCAI_BraTS2020_TrainingData/BraTS20_Training_004/BraTS20_Training_004_seg.nii',\n",
       " '/kaggle/input/brats20-dataset-training-validation/BraTS2020_TrainingData/MICCAI_BraTS2020_TrainingData/BraTS20_Training_005/BraTS20_Training_005_seg.nii']"
      ]
     },
     "execution_count": 11,
     "metadata": {},
     "output_type": "execute_result"
    }
   ],
   "source": [
    "imgpath = {\n",
    "    'seg': [],    \n",
    "    't1': [],\n",
    "    't1ce': [],\n",
    "    't2': [],\n",
    "    'flair': []\n",
    "}\n",
    "\n",
    "# load image paths in dictionary\n",
    "for x in data['BraTS_2020_subject_ID']:\n",
    "    patient=os.path.join(root,x)\n",
    "    # print(patient)\n",
    "    for name in imgpath:\n",
    "      imgpath[name].append(os.path.join(patient, x+f'_{name}.nii'))\n",
    "imgpath['seg'][:5]"
   ]
  },
  {
   "cell_type": "code",
   "execution_count": 12,
   "id": "6cb3387c",
   "metadata": {
    "execution": {
     "iopub.execute_input": "2025-08-04T10:03:32.595963Z",
     "iopub.status.busy": "2025-08-04T10:03:32.595755Z",
     "iopub.status.idle": "2025-08-04T10:03:32.599837Z",
     "shell.execute_reply": "2025-08-04T10:03:32.599201Z"
    },
    "id": "_n8WBNCBIv6x",
    "papermill": {
     "duration": 0.030333,
     "end_time": "2025-08-04T10:03:32.600808",
     "exception": false,
     "start_time": "2025-08-04T10:03:32.570475",
     "status": "completed"
    },
    "tags": []
   },
   "outputs": [],
   "source": [
    "def loadimg(imgpath):\n",
    "  return nib.load(imgpath).get_fdata()\n",
    "\n",
    "def cropcentre(imgslice,cropx,cropy):\n",
    "  y,x = imgslice.shape\n",
    "  startx = x//2-(cropx//2)\n",
    "  starty = y//2-(cropy//2)    \n",
    "  return imgslice[starty:starty+cropy,startx:startx+cropx]\n",
    "\n",
    "def normalizeslice(imgslice):\n",
    "  return (imgslice-imgslice.mean()) / imgslice.std()"
   ]
  },
  {
   "cell_type": "code",
   "execution_count": 13,
   "id": "3b0ff5c6",
   "metadata": {
    "execution": {
     "iopub.execute_input": "2025-08-04T10:03:32.650826Z",
     "iopub.status.busy": "2025-08-04T10:03:32.650609Z",
     "iopub.status.idle": "2025-08-04T10:03:32.757412Z",
     "shell.execute_reply": "2025-08-04T10:03:32.756649Z"
    },
    "papermill": {
     "duration": 0.133684,
     "end_time": "2025-08-04T10:03:32.758636",
     "exception": false,
     "start_time": "2025-08-04T10:03:32.624952",
     "status": "completed"
    },
    "tags": []
   },
   "outputs": [
    {
     "data": {
      "text/plain": [
       "211979"
      ]
     },
     "execution_count": 13,
     "metadata": {},
     "output_type": "execute_result"
    }
   ],
   "source": [
    "img  = loadimg(\"/kaggle/input/brats20-dataset-training-validation/BraTS2020_TrainingData/MICCAI_BraTS2020_TrainingData/BraTS20_Training_001/BraTS20_Training_001_seg.nii\")\n",
    "(img != 0).sum()"
   ]
  },
  {
   "cell_type": "code",
   "execution_count": null,
   "id": "3d9d774b",
   "metadata": {
    "papermill": {
     "duration": 0.027147,
     "end_time": "2025-08-04T10:03:32.866077",
     "exception": false,
     "start_time": "2025-08-04T10:03:32.838930",
     "status": "completed"
    },
    "tags": []
   },
   "outputs": [],
   "source": []
  },
  {
   "cell_type": "code",
   "execution_count": 15,
   "id": "c2a0d669",
   "metadata": {
    "execution": {
     "iopub.execute_input": "2025-08-04T10:03:32.924521Z",
     "iopub.status.busy": "2025-08-04T10:03:32.924262Z",
     "iopub.status.idle": "2025-08-04T10:03:32.930474Z",
     "shell.execute_reply": "2025-08-04T10:03:32.929794Z"
    },
    "papermill": {
     "duration": 0.036537,
     "end_time": "2025-08-04T10:03:32.931609",
     "exception": false,
     "start_time": "2025-08-04T10:03:32.895072",
     "status": "completed"
    },
    "tags": []
   },
   "outputs": [
    {
     "data": {
      "text/plain": [
       "[None, None, None, None, None, None]"
      ]
     },
     "execution_count": 15,
     "metadata": {},
     "output_type": "execute_result"
    }
   ],
   "source": [
    "dirs = [\"dataset\", \"dataset/t1\", \"dataset/t1ce\", \"dataset/t2\", \"dataset/flair\", \"dataset/seg\"]\n",
    "\n",
    "dirs = [\"/kaggle/working/\" + i for i in dirs]\n",
    "[os.makedirs(i, exist_ok=True) for i in dirs]"
   ]
  },
  {
   "cell_type": "code",
   "execution_count": 16,
   "id": "1ab8b787",
   "metadata": {
    "execution": {
     "iopub.execute_input": "2025-08-04T10:03:32.990941Z",
     "iopub.status.busy": "2025-08-04T10:03:32.990442Z",
     "iopub.status.idle": "2025-08-04T10:03:32.995256Z",
     "shell.execute_reply": "2025-08-04T10:03:32.994606Z"
    },
    "papermill": {
     "duration": 0.035549,
     "end_time": "2025-08-04T10:03:32.996356",
     "exception": false,
     "start_time": "2025-08-04T10:03:32.960807",
     "status": "completed"
    },
    "tags": []
   },
   "outputs": [
    {
     "data": {
      "text/plain": [
       "['/kaggle/working/dataset',\n",
       " '/kaggle/working/dataset/t1',\n",
       " '/kaggle/working/dataset/t1ce',\n",
       " '/kaggle/working/dataset/t2',\n",
       " '/kaggle/working/dataset/flair',\n",
       " '/kaggle/working/dataset/seg']"
      ]
     },
     "execution_count": 16,
     "metadata": {},
     "output_type": "execute_result"
    }
   ],
   "source": [
    "dirs"
   ]
  },
  {
   "cell_type": "code",
   "execution_count": 17,
   "id": "a8630a98",
   "metadata": {
    "execution": {
     "iopub.execute_input": "2025-08-04T10:03:33.055617Z",
     "iopub.status.busy": "2025-08-04T10:03:33.055334Z",
     "iopub.status.idle": "2025-08-04T10:04:06.187037Z",
     "shell.execute_reply": "2025-08-04T10:04:06.186422Z"
    },
    "id": "3B_gGl2RI4AI",
    "papermill": {
     "duration": 33.162451,
     "end_time": "2025-08-04T10:04:06.188426",
     "exception": false,
     "start_time": "2025-08-04T10:03:33.025975",
     "status": "completed"
    },
    "tags": []
   },
   "outputs": [],
   "source": [
    "numOfImgsSaved = 0\n",
    "imgs = {}\n",
    "imgslice = {}\n",
    "numOfImgsToSave = 2000\n",
    "\n",
    "for i in (range(len(imgpath['seg']))):\n",
    "    for name in imgpath:\n",
    "      imgs[name] = loadimg(imgpath[name][i])\n",
    "    \n",
    "    for j in range(155):\n",
    "        for name in imgs:\n",
    "          imgslice[name] = imgs[name][:,:,j]\n",
    "          imgslice[name] = cropcentre(imgslice[name], 128, 128)\n",
    "\n",
    "        if imgslice['seg'].max() > 0:\n",
    "          for name in ['t1','t2','t1ce','flair']:\n",
    "            imgslice[name] = normalizeslice(imgslice[name])\n",
    "          for name in imgslice:\n",
    "            np.save(f'./dataset/{name}/img_{numOfImgsSaved}.npy', imgslice[name])\n",
    "          numOfImgsSaved += 1\n",
    "        \n",
    "        if numOfImgsSaved == numOfImgsToSave:\n",
    "          break\n",
    "    if numOfImgsSaved == numOfImgsToSave:\n",
    "          break"
   ]
  },
  {
   "cell_type": "code",
   "execution_count": 18,
   "id": "f3802261",
   "metadata": {
    "execution": {
     "iopub.execute_input": "2025-08-04T10:04:06.240404Z",
     "iopub.status.busy": "2025-08-04T10:04:06.240111Z",
     "iopub.status.idle": "2025-08-04T10:04:06.413074Z",
     "shell.execute_reply": "2025-08-04T10:04:06.412291Z"
    },
    "papermill": {
     "duration": 0.200662,
     "end_time": "2025-08-04T10:04:06.414579",
     "exception": false,
     "start_time": "2025-08-04T10:04:06.213917",
     "status": "completed"
    },
    "tags": []
   },
   "outputs": [
    {
     "name": "stdout",
     "output_type": "stream",
     "text": [
      "258M\t/kaggle/working/dataset/t1ce\r\n",
      "258M\t/kaggle/working/dataset/t1\r\n",
      "258M\t/kaggle/working/dataset/t2\r\n",
      "258M\t/kaggle/working/dataset/flair\r\n",
      "258M\t/kaggle/working/dataset/seg\r\n",
      "1.3G\t/kaggle/working/dataset\r\n"
     ]
    }
   ],
   "source": [
    "! du -h \"/kaggle/working/dataset\""
   ]
  },
  {
   "cell_type": "code",
   "execution_count": 20,
   "id": "6051ff71",
   "metadata": {
    "execution": {
     "iopub.execute_input": "2025-08-04T10:04:06.523906Z",
     "iopub.status.busy": "2025-08-04T10:04:06.523651Z",
     "iopub.status.idle": "2025-08-04T10:04:06.828285Z",
     "shell.execute_reply": "2025-08-04T10:04:06.827493Z"
    },
    "id": "cQlMc-KaWHxl",
    "outputId": "994ef7fa-d328-420a-9a77-d66524545514",
    "papermill": {
     "duration": 0.331897,
     "end_time": "2025-08-04T10:04:06.830139",
     "exception": false,
     "start_time": "2025-08-04T10:04:06.498242",
     "status": "completed"
    },
    "tags": []
   },
   "outputs": [
    {
     "data": {
      "text/plain": [
       "<matplotlib.image.AxesImage at 0x7914572a0b10>"
      ]
     },
     "execution_count": 20,
     "metadata": {},
     "output_type": "execute_result"
    },
    {
     "data": {
      "image/png": "[encoded data removed]",
      "text/plain": [
       "<Figure size 640x480 with 1 Axes>"
      ]
     },
     "metadata": {},
     "output_type": "display_data"
    }
   ],
   "source": [
    "working_dir = \"/kaggle/working/dataset/\"\n",
    "x = np.load(working_dir + 't2/img_25.npy')\n",
    "plt.imshow(x, cmap='gray')"
   ]
  },
  {
   "cell_type": "markdown",
   "id": "bec0b931",
   "metadata": {
    "id": "JpHVF87SpIUv",
    "papermill": {
     "duration": 0.025987,
     "end_time": "2025-08-04T10:04:06.884195",
     "exception": false,
     "start_time": "2025-08-04T10:04:06.858208",
     "status": "completed"
    },
    "tags": []
   },
   "source": [
    "# Dataset"
   ]
  },
  {
   "cell_type": "code",
   "execution_count": 21,
   "id": "197da58b",
   "metadata": {
    "execution": {
     "iopub.execute_input": "2025-08-04T10:04:06.936723Z",
     "iopub.status.busy": "2025-08-04T10:04:06.936443Z",
     "iopub.status.idle": "2025-08-04T10:04:06.944406Z",
     "shell.execute_reply": "2025-08-04T10:04:06.943690Z"
    },
    "id": "RYNmjuQLXWf6",
    "papermill": {
     "duration": 0.035531,
     "end_time": "2025-08-04T10:04:06.945564",
     "exception": false,
     "start_time": "2025-08-04T10:04:06.910033",
     "status": "completed"
    },
    "tags": []
   },
   "outputs": [],
   "source": [
    "class Dataset(Dataset):\n",
    "    def __init__(self, datapath=working_dir, augmentation=None):\n",
    "        self.augmentation = augmentation\n",
    "        self.folderpaths = {\n",
    "            'mask': os.path.join(datapath, 'seg/'),\n",
    "            't1': os.path.join(datapath, 't1/'),\n",
    "            't1ce': os.path.join(datapath, 't1ce/'),\n",
    "            't2': os.path.join(datapath, 't2/'),\n",
    "            'flair': os.path.join(datapath, 'flair/')\n",
    "        }\n",
    "    \n",
    "    def __getitem__(self, idx):\n",
    "        images = {}\n",
    "        for name in self.folderpaths:\n",
    "          images[name] = np.load(os.path.join(self.folderpaths[name], f'img_{idx}.npy'))\n",
    "\n",
    "        if self.augmentation:\n",
    "          images = self.augmentation(image=images['flair'],\n",
    "                                      mask=images['mask'],\n",
    "                                      t1=images['t1'],\n",
    "                                      t1ce=images['t1ce'],\n",
    "                                      t2=images['t2'])\n",
    "          images['flair'] = images['image']\n",
    "\n",
    "        for name in images:\n",
    "          images[name] = torch.from_numpy(images[name])\n",
    "\n",
    "        # stack modalities\n",
    "        input = torch.stack([images['t1'],\n",
    "                             images['t1ce'],\n",
    "                             images['t2'],\n",
    "                             images['flair']], dim=0)\n",
    "        \n",
    "        # map pixels with value of 4 to 3\n",
    "        images['mask'][images['mask']==4] = 3\n",
    "\n",
    "        # one-hot encode truth label\n",
    "        images['mask'] = F.one_hot(images['mask'].long().unsqueeze(0), num_classes = 4).permute(0,3,1,2).contiguous().squeeze(0)\n",
    "\n",
    "        return input.float(), images['mask'].long()\n",
    "    \n",
    "    def __len__(self):\n",
    "        return len(os.listdir(self.folderpaths['mask'])) - 1"
   ]
  },
  {
   "cell_type": "code",
   "execution_count": 22,
   "id": "70be4848",
   "metadata": {
    "execution": {
     "iopub.execute_input": "2025-08-04T10:04:06.997548Z",
     "iopub.status.busy": "2025-08-04T10:04:06.997332Z",
     "iopub.status.idle": "2025-08-04T10:04:07.017377Z",
     "shell.execute_reply": "2025-08-04T10:04:07.016648Z"
    },
    "id": "PYDXq6b-X8jX",
    "papermill": {
     "duration": 0.04725,
     "end_time": "2025-08-04T10:04:07.018451",
     "exception": false,
     "start_time": "2025-08-04T10:04:06.971201",
     "status": "completed"
    },
    "tags": []
   },
   "outputs": [
    {
     "name": "stderr",
     "output_type": "stream",
     "text": [
      "/tmp/ipykernel_19/2897171150.py:3: UserWarning: Argument(s) 'alpha_affine' are not valid for transform ElasticTransform\n",
      "  A.ElasticTransform(alpha=120, sigma=120 * 0.05, alpha_affine=120 * 0.03, p=0.5),\n",
      "/tmp/ipykernel_19/2897171150.py:5: UserWarning: Argument(s) 'shift_limit' are not valid for transform OpticalDistortion\n",
      "  A.OpticalDistortion(distort_limit=2, shift_limit=0.5, p=0.5)\n"
     ]
    }
   ],
   "source": [
    "augmentation = A.Compose([\n",
    "    A.OneOf([\n",
    "        A.ElasticTransform(alpha=120, sigma=120 * 0.05, alpha_affine=120 * 0.03, p=0.5),\n",
    "        A.GridDistortion(p=0.5),\n",
    "        A.OpticalDistortion(distort_limit=2, shift_limit=0.5, p=0.5)                  \n",
    "        ], p=0.8),\n",
    "    A.RandomBrightnessContrast(p=0.8),\n",
    "    ], \n",
    "    additional_targets={'t1':'image',\n",
    "                          't1ce':'image',\n",
    "                          't2':'image'})\n",
    "\n",
    "valid_test_dataset = Dataset(datapath=working_dir,\n",
    "                             augmentation=None)\n",
    "\n",
    "train_dataset = Dataset(datapath=working_dir,\n",
    "                        augmentation=augmentation)\n",
    "\n",
    "# take 60%/20%/20% of the dataset for train/val/test \n",
    "train_length=int(0.6 * len(valid_test_dataset))\n",
    "valid_length = int(0.2 * len(valid_test_dataset))\n",
    "test_length = len(valid_test_dataset) - train_length - valid_length\n",
    "\n",
    "_, valid_dataset, test_dataset = torch.utils.data.random_split(valid_test_dataset, (train_length,valid_length,test_length), generator=torch.Generator().manual_seed(42))\n",
    "\n",
    "train_dataset, _, _ = torch.utils.data.random_split(train_dataset, (train_length,valid_length,test_length), generator=torch.Generator().manual_seed(42))\n",
    "\n",
    "\n",
    "train_loader= DataLoader(train_dataset,\n",
    "                      batch_size=16,\n",
    "                      num_workers=2,\n",
    "                      shuffle=True)\n",
    "\n",
    "valid_loader= DataLoader(valid_dataset,\n",
    "                      batch_size=1,\n",
    "                      num_workers=2,\n",
    "                      shuffle=False)\n",
    "\n",
    "test_loader= DataLoader(test_dataset,\n",
    "                      batch_size=1,\n",
    "                      num_workers=2,\n",
    "                      shuffle=False)"
   ]
  },
  {
   "cell_type": "code",
   "execution_count": 23,
   "id": "ceaa09dc",
   "metadata": {
    "execution": {
     "iopub.execute_input": "2025-08-04T10:04:07.071671Z",
     "iopub.status.busy": "2025-08-04T10:04:07.071449Z",
     "iopub.status.idle": "2025-08-04T10:04:07.473987Z",
     "shell.execute_reply": "2025-08-04T10:04:07.472975Z"
    },
    "id": "76E3fFm5dM58",
    "papermill": {
     "duration": 0.431375,
     "end_time": "2025-08-04T10:04:07.475890",
     "exception": false,
     "start_time": "2025-08-04T10:04:07.044515",
     "status": "completed"
    },
    "tags": []
   },
   "outputs": [],
   "source": [
    "a,b=next(iter(train_loader))"
   ]
  },
  {
   "cell_type": "code",
   "execution_count": 24,
   "id": "db4b4f37",
   "metadata": {
    "execution": {
     "iopub.execute_input": "2025-08-04T10:04:07.530020Z",
     "iopub.status.busy": "2025-08-04T10:04:07.529550Z",
     "iopub.status.idle": "2025-08-04T10:04:07.726034Z",
     "shell.execute_reply": "2025-08-04T10:04:07.725290Z"
    },
    "id": "xJqQXw1FBzAv",
    "outputId": "b1427f4a-1722-4974-826d-c4fd46a81475",
    "papermill": {
     "duration": 0.225044,
     "end_time": "2025-08-04T10:04:07.728169",
     "exception": false,
     "start_time": "2025-08-04T10:04:07.503125",
     "status": "completed"
    },
    "tags": []
   },
   "outputs": [
    {
     "data": {
      "text/plain": [
       "<matplotlib.image.AxesImage at 0x791456f15d10>"
      ]
     },
     "execution_count": 24,
     "metadata": {},
     "output_type": "execute_result"
    },
    {
     "data": {
      "image/png": "[encoded data removed]",
      "text/plain": [
       "<Figure size 640x480 with 1 Axes>"
      ]
     },
     "metadata": {},
     "output_type": "display_data"
    }
   ],
   "source": [
    "plt.imshow(a[0,0],cmap='gray')"
   ]
  },
  {
   "cell_type": "code",
   "execution_count": 25,
   "id": "9128c353",
   "metadata": {
    "execution": {
     "iopub.execute_input": "2025-08-04T10:04:07.785587Z",
     "iopub.status.busy": "2025-08-04T10:04:07.785351Z",
     "iopub.status.idle": "2025-08-04T10:04:07.995980Z",
     "shell.execute_reply": "2025-08-04T10:04:07.995257Z"
    },
    "id": "mdKzf1T3Wn4D",
    "outputId": "9401db3c-30c7-402a-9670-f08d4b49c268",
    "papermill": {
     "duration": 0.240252,
     "end_time": "2025-08-04T10:04:07.997121",
     "exception": false,
     "start_time": "2025-08-04T10:04:07.756869",
     "status": "completed"
    },
    "tags": []
   },
   "outputs": [
    {
     "data": {
      "text/plain": [
       "<matplotlib.image.AxesImage at 0x791456da7990>"
      ]
     },
     "execution_count": 25,
     "metadata": {},
     "output_type": "execute_result"
    },
    {
     "data": {
      "image/png": "[encoded data removed]",
      "text/plain": [
       "<Figure size 640x480 with 1 Axes>"
      ]
     },
     "metadata": {},
     "output_type": "display_data"
    }
   ],
   "source": [
    "bb = torch.argmax(b,1)\n",
    "plt.imshow(bb[0],cmap='gray')"
   ]
  },
  {
   "cell_type": "markdown",
   "id": "24ac9850",
   "metadata": {
    "id": "VmyO11fopP_K",
    "papermill": {
     "duration": 0.028018,
     "end_time": "2025-08-04T10:04:08.055121",
     "exception": false,
     "start_time": "2025-08-04T10:04:08.027103",
     "status": "completed"
    },
    "tags": []
   },
   "source": [
    "# Train Model"
   ]
  },
  {
   "cell_type": "code",
   "execution_count": 26,
   "id": "022af629",
   "metadata": {
    "execution": {
     "iopub.execute_input": "2025-08-04T10:04:08.111404Z",
     "iopub.status.busy": "2025-08-04T10:04:08.111170Z",
     "iopub.status.idle": "2025-08-04T10:04:08.340263Z",
     "shell.execute_reply": "2025-08-04T10:04:08.339422Z"
    },
    "id": "q5J_xWFA7oeF",
    "outputId": "0db8ffa0-0073-4b5e-f079-4a195e9d4c08",
    "papermill": {
     "duration": 0.258727,
     "end_time": "2025-08-04T10:04:08.341520",
     "exception": false,
     "start_time": "2025-08-04T10:04:08.082793",
     "status": "completed"
    },
    "tags": []
   },
   "outputs": [
    {
     "name": "stdout",
     "output_type": "stream",
     "text": [
      "Mon Aug  4 10:04:08 2025       \r\n",
      "+-----------------------------------------------------------------------------------------+\r\n",
      "| NVIDIA-SMI 560.35.03              Driver Version: 560.35.03      CUDA Version: 12.6     |\r\n",
      "|-----------------------------------------+------------------------+----------------------+\r\n",
      "| GPU  Name                 Persistence-M | Bus-Id          Disp.A | Volatile Uncorr. ECC |\r\n",
      "| Fan  Temp   Perf          Pwr:Usage/Cap |           Memory-Usage | GPU-Util  Compute M. |\r\n",
      "|                                         |                        |               MIG M. |\r\n",
      "|=========================================+========================+======================|\r\n",
      "|   0  Tesla P100-PCIE-16GB           Off |   00000000:00:04.0 Off |                    0 |\r\n",
      "| N/A   38C    P0             25W /  250W |       3MiB /  16384MiB |      0%      Default |\r\n",
      "|                                         |                        |                  N/A |\r\n",
      "+-----------------------------------------+------------------------+----------------------+\r\n",
      "                                                                                         \r\n",
      "+-----------------------------------------------------------------------------------------+\r\n",
      "| Processes:                                                                              |\r\n",
      "|  GPU   GI   CI        PID   Type   Process name                              GPU Memory |\r\n",
      "|        ID   ID                                                               Usage      |\r\n",
      "|=========================================================================================|\r\n",
      "|  No running processes found                                                             |\r\n",
      "+-----------------------------------------------------------------------------------------+\r\n"
     ]
    }
   ],
   "source": [
    "DEVICE = torch.device('cuda:0' if torch.cuda.is_available() else 'cpu')\n",
    "!nvidia-smi"
   ]
  },
  {
   "cell_type": "code",
   "execution_count": 27,
   "id": "630a07d3",
   "metadata": {
    "execution": {
     "iopub.execute_input": "2025-08-04T10:04:08.400645Z",
     "iopub.status.busy": "2025-08-04T10:04:08.400356Z",
     "iopub.status.idle": "2025-08-04T10:04:10.154781Z",
     "shell.execute_reply": "2025-08-04T10:04:10.153956Z"
    },
    "id": "VHzejMQjpdZb",
    "outputId": "c9af91c1-b1fb-4c0a-c168-6b09d1b9db9a",
    "papermill": {
     "duration": 1.785779,
     "end_time": "2025-08-04T10:04:10.156281",
     "exception": false,
     "start_time": "2025-08-04T10:04:08.370502",
     "status": "completed"
    },
    "tags": []
   },
   "outputs": [
    {
     "data": {
      "application/vnd.jupyter.widget-view+json": {
       "model_id": "5110d486f4dc4799ab1fd249b409317a",
       "version_major": 2,
       "version_minor": 0
      },
      "text/plain": [
       "config.json:   0%|          | 0.00/156 [00:00<?, ?B/s]"
      ]
     },
     "metadata": {},
     "output_type": "display_data"
    },
    {
     "data": {
      "application/vnd.jupyter.widget-view+json": {
       "model_id": "703ae445941b49ddad67687f2fa1d210",
       "version_major": 2,
       "version_minor": 0
      },
      "text/plain": [
       "model.safetensors:   0%|          | 0.00/102M [00:00<?, ?B/s]"
      ]
     },
     "metadata": {},
     "output_type": "display_data"
    }
   ],
   "source": [
    "# import model\n",
    "MODEL = smp.Unet(encoder_name='resnet50',\n",
    "                 encoder_depth=5,\n",
    "                 encoder_weights='imagenet',\n",
    "                 decoder_channels=[1024,512,256,128,64],\n",
    "                 in_channels=4,\n",
    "                 classes=4,\n",
    "                 activation=None)"
   ]
  },
  {
   "cell_type": "code",
   "execution_count": 28,
   "id": "bf9522a5",
   "metadata": {
    "execution": {
     "iopub.execute_input": "2025-08-04T10:04:10.215709Z",
     "iopub.status.busy": "2025-08-04T10:04:10.215489Z",
     "iopub.status.idle": "2025-08-04T10:04:10.221120Z",
     "shell.execute_reply": "2025-08-04T10:04:10.220629Z"
    },
    "id": "OgxYNRzyANSu",
    "papermill": {
     "duration": 0.035392,
     "end_time": "2025-08-04T10:04:10.222221",
     "exception": false,
     "start_time": "2025-08-04T10:04:10.186829",
     "status": "completed"
    },
    "tags": []
   },
   "outputs": [],
   "source": [
    "backgroundchannel = [0]\n",
    "\n",
    "DICE_LOSS = smp.utils.losses.DiceLoss(activation='softmax2d')  \n",
    "\n",
    "OPTIMIZER = torch.optim.Adam([ \n",
    "    dict(params=MODEL.parameters(), lr=0.0001),\n",
    "])\n",
    "\n",
    "METRICS = [\n",
    "    smp.utils.metrics.IoU(threshold=0.5,\n",
    "                          ignore_channels=backgroundchannel, \n",
    "                          activation='softmax2d'),\n",
    "    smp.utils.metrics.Fscore(ignore_channels=backgroundchannel, \n",
    "                            activation='softmax2d'),\n",
    "]"
   ]
  },
  {
   "cell_type": "code",
   "execution_count": 29,
   "id": "66195549",
   "metadata": {
    "execution": {
     "iopub.execute_input": "2025-08-04T10:04:10.279908Z",
     "iopub.status.busy": "2025-08-04T10:04:10.279436Z",
     "iopub.status.idle": "2025-08-04T10:04:10.283898Z",
     "shell.execute_reply": "2025-08-04T10:04:10.283355Z"
    },
    "papermill": {
     "duration": 0.034668,
     "end_time": "2025-08-04T10:04:10.284973",
     "exception": false,
     "start_time": "2025-08-04T10:04:10.250305",
     "status": "completed"
    },
    "tags": []
   },
   "outputs": [
    {
     "data": {
      "text/plain": [
       "['__notebook__.ipynb', 'dataset']"
      ]
     },
     "execution_count": 29,
     "metadata": {},
     "output_type": "execute_result"
    }
   ],
   "source": [
    "os.listdir(\"./\")"
   ]
  },
  {
   "cell_type": "code",
   "execution_count": 30,
   "id": "6f293a04",
   "metadata": {
    "execution": {
     "iopub.execute_input": "2025-08-04T10:04:10.342537Z",
     "iopub.status.busy": "2025-08-04T10:04:10.342349Z",
     "iopub.status.idle": "2025-08-04T10:18:48.441991Z",
     "shell.execute_reply": "2025-08-04T10:18:48.441114Z"
    },
    "id": "OMmjJF9KBQWE",
    "outputId": "8dbc228c-0f76-4818-9421-dfde7238637f",
    "papermill": {
     "duration": 878.1297,
     "end_time": "2025-08-04T10:18:48.443240",
     "exception": false,
     "start_time": "2025-08-04T10:04:10.313540",
     "status": "completed"
    },
    "tags": []
   },
   "outputs": [
    {
     "name": "stdout",
     "output_type": "stream",
     "text": [
      "\n",
      " --- Epoch 0 --- \n",
      "train: 100%|██████████| 75/75 [00:11<00:00,  6.47it/s, dice_loss - 0.3338]\n",
      "valid: 100%|██████████| 399/399 [00:06<00:00, 60.91it/s, dice_loss - 0.1256, iou_score - 0.2969, fscore - 0.399]\n",
      "model saved!\n",
      "\n",
      " --- Epoch 1 --- \n",
      "train: 100%|██████████| 75/75 [00:10<00:00,  6.89it/s, dice_loss - 0.08306]\n",
      "valid: 100%|██████████| 399/399 [00:06<00:00, 63.38it/s, dice_loss - 0.06051, iou_score - 0.3928, fscore - 0.5006]\n",
      "model saved!\n",
      "\n",
      " --- Epoch 2 --- \n",
      "train: 100%|██████████| 75/75 [00:10<00:00,  6.91it/s, dice_loss - 0.05277]\n",
      "valid: 100%|██████████| 399/399 [00:06<00:00, 63.92it/s, dice_loss - 0.04608, iou_score - 0.4622, fscore - 0.5726]\n",
      "model saved!\n",
      "\n",
      " --- Epoch 3 --- \n",
      "train: 100%|██████████| 75/75 [00:10<00:00,  6.90it/s, dice_loss - 0.04239]\n",
      "valid: 100%|██████████| 399/399 [00:06<00:00, 63.41it/s, dice_loss - 0.03751, iou_score - 0.4825, fscore - 0.5881]\n",
      "model saved!\n",
      "\n",
      " --- Epoch 4 --- \n",
      "train: 100%|██████████| 75/75 [00:10<00:00,  6.94it/s, dice_loss - 0.03779]\n",
      "valid: 100%|██████████| 399/399 [00:06<00:00, 63.95it/s, dice_loss - 0.03451, iou_score - 0.4911, fscore - 0.6011]\n",
      "model saved!\n",
      "\n",
      " --- Epoch 5 --- \n",
      "train: 100%|██████████| 75/75 [00:10<00:00,  6.91it/s, dice_loss - 0.03535]\n",
      "valid: 100%|██████████| 399/399 [00:06<00:00, 63.00it/s, dice_loss - 0.03168, iou_score - 0.4727, fscore - 0.5718]\n",
      "\n",
      " --- Epoch 6 --- \n",
      "train: 100%|██████████| 75/75 [00:10<00:00,  6.95it/s, dice_loss - 0.03259]\n",
      "valid: 100%|██████████| 399/399 [00:06<00:00, 63.59it/s, dice_loss - 0.02987, iou_score - 0.5151, fscore - 0.6236]\n",
      "model saved!\n",
      "\n",
      " --- Epoch 7 --- \n",
      "train: 100%|██████████| 75/75 [00:10<00:00,  6.94it/s, dice_loss - 0.03156]\n",
      "valid: 100%|██████████| 399/399 [00:06<00:00, 64.17it/s, dice_loss - 0.02926, iou_score - 0.5199, fscore - 0.6245]\n",
      "model saved!\n",
      "\n",
      " --- Epoch 8 --- \n",
      "train: 100%|██████████| 75/75 [00:10<00:00,  6.89it/s, dice_loss - 0.03038]\n",
      "valid: 100%|██████████| 399/399 [00:06<00:00, 63.62it/s, dice_loss - 0.02768, iou_score - 0.5439, fscore - 0.651]\n",
      "model saved!\n",
      "\n",
      " --- Epoch 9 --- \n",
      "train: 100%|██████████| 75/75 [00:10<00:00,  6.91it/s, dice_loss - 0.02967]\n",
      "valid: 100%|██████████| 399/399 [00:06<00:00, 63.69it/s, dice_loss - 0.0264, iou_score - 0.5573, fscore - 0.6627]\n",
      "model saved!\n",
      "\n",
      " --- Epoch 10 --- \n",
      "train: 100%|██████████| 75/75 [00:10<00:00,  6.91it/s, dice_loss - 0.02857]\n",
      "valid: 100%|██████████| 399/399 [00:06<00:00, 63.42it/s, dice_loss - 0.0326, iou_score - 0.4863, fscore - 0.6099]\n",
      "\n",
      " --- Epoch 11 --- \n",
      "train: 100%|██████████| 75/75 [00:10<00:00,  6.90it/s, dice_loss - 0.0243]\n",
      "valid: 100%|██████████| 399/399 [00:06<00:00, 63.42it/s, dice_loss - 0.02542, iou_score - 0.5387, fscore - 0.6526]\n",
      "\n",
      " --- Epoch 12 --- \n",
      "train: 100%|██████████| 75/75 [00:10<00:00,  6.93it/s, dice_loss - 0.02415]\n",
      "valid: 100%|██████████| 399/399 [00:06<00:00, 64.06it/s, dice_loss - 0.02152, iou_score - 0.5821, fscore - 0.6846]\n",
      "model saved!\n",
      "\n",
      " --- Epoch 13 --- \n",
      "train: 100%|██████████| 75/75 [00:10<00:00,  6.94it/s, dice_loss - 0.0239]\n",
      "valid: 100%|██████████| 399/399 [00:06<00:00, 62.10it/s, dice_loss - 0.02042, iou_score - 0.6013, fscore - 0.6963]\n",
      "model saved!\n",
      "\n",
      " --- Epoch 14 --- \n",
      "train: 100%|██████████| 75/75 [00:10<00:00,  6.93it/s, dice_loss - 0.02153]\n",
      "valid: 100%|██████████| 399/399 [00:06<00:00, 63.11it/s, dice_loss - 0.01848, iou_score - 0.6163, fscore - 0.7107]\n",
      "model saved!\n",
      "\n",
      " --- Epoch 15 --- \n",
      "train: 100%|██████████| 75/75 [00:10<00:00,  6.91it/s, dice_loss - 0.02069]\n",
      "valid: 100%|██████████| 399/399 [00:06<00:00, 63.49it/s, dice_loss - 0.01882, iou_score - 0.6146, fscore - 0.7118]\n",
      "model saved!\n",
      "\n",
      " --- Epoch 16 --- \n",
      "train: 100%|██████████| 75/75 [00:10<00:00,  6.91it/s, dice_loss - 0.02115]\n",
      "valid: 100%|██████████| 399/399 [00:06<00:00, 63.60it/s, dice_loss - 0.01912, iou_score - 0.6127, fscore - 0.7088]\n",
      "\n",
      " --- Epoch 17 --- \n",
      "train: 100%|██████████| 75/75 [00:10<00:00,  6.91it/s, dice_loss - 0.02121]\n",
      "valid: 100%|██████████| 399/399 [00:06<00:00, 63.79it/s, dice_loss - 0.02297, iou_score - 0.5799, fscore - 0.6875]\n",
      "\n",
      " --- Epoch 18 --- \n",
      "train: 100%|██████████| 75/75 [00:10<00:00,  6.95it/s, dice_loss - 0.01988]\n",
      "valid: 100%|██████████| 399/399 [00:06<00:00, 62.63it/s, dice_loss - 0.01737, iou_score - 0.6346, fscore - 0.7288]\n",
      "model saved!\n",
      "\n",
      " --- Epoch 19 --- \n",
      "train: 100%|██████████| 75/75 [00:10<00:00,  6.90it/s, dice_loss - 0.01938]\n",
      "valid: 100%|██████████| 399/399 [00:06<00:00, 64.08it/s, dice_loss - 0.01704, iou_score - 0.6435, fscore - 0.7364]\n",
      "model saved!\n",
      "\n",
      " --- Epoch 20 --- \n",
      "train: 100%|██████████| 75/75 [00:10<00:00,  6.87it/s, dice_loss - 0.01912]\n",
      "valid: 100%|██████████| 399/399 [00:06<00:00, 62.86it/s, dice_loss - 0.01737, iou_score - 0.6352, fscore - 0.7287]\n",
      "\n",
      " --- Epoch 21 --- \n",
      "train: 100%|██████████| 75/75 [00:10<00:00,  6.94it/s, dice_loss - 0.01971]\n",
      "valid: 100%|██████████| 399/399 [00:06<00:00, 62.79it/s, dice_loss - 0.01733, iou_score - 0.6411, fscore - 0.7384]\n",
      "model saved!\n",
      "\n",
      " --- Epoch 22 --- \n",
      "train: 100%|██████████| 75/75 [00:10<00:00,  6.88it/s, dice_loss - 0.0188]\n",
      "valid: 100%|██████████| 399/399 [00:06<00:00, 62.35it/s, dice_loss - 0.01779, iou_score - 0.6372, fscore - 0.7364]\n",
      "\n",
      " --- Epoch 23 --- \n",
      "train: 100%|██████████| 75/75 [00:10<00:00,  6.94it/s, dice_loss - 0.01877]\n",
      "valid: 100%|██████████| 399/399 [00:06<00:00, 62.48it/s, dice_loss - 0.01631, iou_score - 0.6512, fscore - 0.744]\n",
      "model saved!\n",
      "\n",
      " --- Epoch 24 --- \n",
      "train: 100%|██████████| 75/75 [00:10<00:00,  6.91it/s, dice_loss - 0.01832]\n",
      "valid: 100%|██████████| 399/399 [00:06<00:00, 62.35it/s, dice_loss - 0.01597, iou_score - 0.6546, fscore - 0.7443]\n",
      "model saved!\n",
      "\n",
      " --- Epoch 25 --- \n",
      "train: 100%|██████████| 75/75 [00:10<00:00,  6.90it/s, dice_loss - 0.01779]\n",
      "valid: 100%|██████████| 399/399 [00:06<00:00, 62.39it/s, dice_loss - 0.01586, iou_score - 0.6537, fscore - 0.7459]\n",
      "model saved!\n",
      "\n",
      " --- Epoch 26 --- \n",
      "train: 100%|██████████| 75/75 [00:10<00:00,  6.91it/s, dice_loss - 0.01735]\n",
      "valid: 100%|██████████| 399/399 [00:06<00:00, 63.66it/s, dice_loss - 0.01522, iou_score - 0.6622, fscore - 0.751]\n",
      "model saved!\n",
      "\n",
      " --- Epoch 27 --- \n",
      "train: 100%|██████████| 75/75 [00:10<00:00,  6.91it/s, dice_loss - 0.01734]\n",
      "valid: 100%|██████████| 399/399 [00:06<00:00, 63.89it/s, dice_loss - 0.0158, iou_score - 0.6553, fscore - 0.7477]\n",
      "\n",
      " --- Epoch 28 --- \n",
      "train: 100%|██████████| 75/75 [00:10<00:00,  6.94it/s, dice_loss - 0.01738]\n",
      "valid: 100%|██████████| 399/399 [00:06<00:00, 63.70it/s, dice_loss - 0.01505, iou_score - 0.6721, fscore - 0.7634]\n",
      "model saved!\n",
      "\n",
      " --- Epoch 29 --- \n",
      "train: 100%|██████████| 75/75 [00:10<00:00,  6.91it/s, dice_loss - 0.01709]\n",
      "valid: 100%|██████████| 399/399 [00:06<00:00, 64.22it/s, dice_loss - 0.01551, iou_score - 0.65, fscore - 0.7403]\n",
      "\n",
      " --- Epoch 30 --- \n",
      "train: 100%|██████████| 75/75 [00:10<00:00,  6.93it/s, dice_loss - 0.01786]\n",
      "valid: 100%|██████████| 399/399 [00:06<00:00, 63.65it/s, dice_loss - 0.01614, iou_score - 0.6533, fscore - 0.7446]\n",
      "\n",
      " --- Epoch 31 --- \n",
      "train: 100%|██████████| 75/75 [00:10<00:00,  6.91it/s, dice_loss - 0.01747]\n",
      "valid: 100%|██████████| 399/399 [00:06<00:00, 64.16it/s, dice_loss - 0.01555, iou_score - 0.6633, fscore - 0.7535]\n",
      "\n",
      " --- Epoch 32 --- \n",
      "train: 100%|██████████| 75/75 [00:10<00:00,  7.00it/s, dice_loss - 0.01684]\n",
      "valid: 100%|██████████| 399/399 [00:06<00:00, 63.02it/s, dice_loss - 0.01706, iou_score - 0.6496, fscore - 0.7496]\n",
      "\n",
      " --- Epoch 33 --- \n",
      "train: 100%|██████████| 75/75 [00:10<00:00,  6.96it/s, dice_loss - 0.0169]\n",
      "valid: 100%|██████████| 399/399 [00:06<00:00, 63.66it/s, dice_loss - 0.01467, iou_score - 0.6737, fscore - 0.7644]\n",
      "model saved!\n",
      "\n",
      " --- Epoch 34 --- \n",
      "train: 100%|██████████| 75/75 [00:10<00:00,  6.96it/s, dice_loss - 0.01623]\n",
      "valid: 100%|██████████| 399/399 [00:06<00:00, 62.82it/s, dice_loss - 0.01486, iou_score - 0.6694, fscore - 0.7601]\n",
      "\n",
      " --- Epoch 35 --- \n",
      "train: 100%|██████████| 75/75 [00:10<00:00,  6.94it/s, dice_loss - 0.01623]\n",
      "valid: 100%|██████████| 399/399 [00:06<00:00, 63.88it/s, dice_loss - 0.01553, iou_score - 0.6632, fscore - 0.7501]\n",
      "\n",
      " --- Epoch 36 --- \n",
      "train: 100%|██████████| 75/75 [00:10<00:00,  6.92it/s, dice_loss - 0.01739]\n",
      "valid: 100%|██████████| 399/399 [00:06<00:00, 63.63it/s, dice_loss - 0.01495, iou_score - 0.667, fscore - 0.7572]\n",
      "\n",
      " --- Epoch 37 --- \n",
      "train: 100%|██████████| 75/75 [00:10<00:00,  6.94it/s, dice_loss - 0.01645]\n",
      "valid: 100%|██████████| 399/399 [00:06<00:00, 63.88it/s, dice_loss - 0.01496, iou_score - 0.6689, fscore - 0.7633]\n",
      "\n",
      " --- Epoch 38 --- \n",
      "train: 100%|██████████| 75/75 [00:10<00:00,  6.93it/s, dice_loss - 0.01634]\n",
      "valid: 100%|██████████| 399/399 [00:06<00:00, 63.38it/s, dice_loss - 0.01631, iou_score - 0.6534, fscore - 0.7506]\n",
      "\n",
      " --- Epoch 39 --- \n",
      "train: 100%|██████████| 75/75 [00:10<00:00,  6.96it/s, dice_loss - 0.01606]\n",
      "valid: 100%|██████████| 399/399 [00:06<00:00, 64.51it/s, dice_loss - 0.01421, iou_score - 0.6767, fscore - 0.7643]\n",
      "\n",
      " --- Epoch 40 --- \n",
      "train: 100%|██████████| 75/75 [00:10<00:00,  6.93it/s, dice_loss - 0.01569]\n",
      "valid: 100%|██████████| 399/399 [00:06<00:00, 64.12it/s, dice_loss - 0.01392, iou_score - 0.6858, fscore - 0.7757]\n",
      "model saved!\n",
      "\n",
      " --- Epoch 41 --- \n",
      "train: 100%|██████████| 75/75 [00:10<00:00,  6.96it/s, dice_loss - 0.01606]\n",
      "valid: 100%|██████████| 399/399 [00:06<00:00, 63.44it/s, dice_loss - 0.01437, iou_score - 0.6785, fscore - 0.7682]\n",
      "\n",
      " --- Epoch 42 --- \n",
      "train: 100%|██████████| 75/75 [00:10<00:00,  6.93it/s, dice_loss - 0.01533]\n",
      "valid: 100%|██████████| 399/399 [00:06<00:00, 63.91it/s, dice_loss - 0.01391, iou_score - 0.6798, fscore - 0.7675]\n",
      "\n",
      " --- Epoch 43 --- \n",
      "train: 100%|██████████| 75/75 [00:10<00:00,  6.95it/s, dice_loss - 0.01547]\n",
      "valid: 100%|██████████| 399/399 [00:06<00:00, 63.32it/s, dice_loss - 0.01388, iou_score - 0.6849, fscore - 0.7721]\n",
      "\n",
      " --- Epoch 44 --- \n",
      "train: 100%|██████████| 75/75 [00:10<00:00,  6.96it/s, dice_loss - 0.0152]\n",
      "valid: 100%|██████████| 399/399 [00:06<00:00, 64.00it/s, dice_loss - 0.01428, iou_score - 0.6772, fscore - 0.7669]\n",
      "\n",
      " --- Epoch 45 --- \n",
      "train: 100%|██████████| 75/75 [00:10<00:00,  6.94it/s, dice_loss - 0.01535]\n",
      "valid: 100%|██████████| 399/399 [00:06<00:00, 63.48it/s, dice_loss - 0.01365, iou_score - 0.6884, fscore - 0.7771]\n",
      "model saved!\n",
      "\n",
      " --- Epoch 46 --- \n",
      "train: 100%|██████████| 75/75 [00:10<00:00,  6.97it/s, dice_loss - 0.01614]\n",
      "valid: 100%|██████████| 399/399 [00:06<00:00, 64.29it/s, dice_loss - 0.01459, iou_score - 0.6719, fscore - 0.7646]\n",
      "\n",
      " --- Epoch 47 --- \n",
      "train: 100%|██████████| 75/75 [00:10<00:00,  6.90it/s, dice_loss - 0.0158]\n",
      "valid: 100%|██████████| 399/399 [00:06<00:00, 63.84it/s, dice_loss - 0.01383, iou_score - 0.6857, fscore - 0.773]\n",
      "\n",
      " --- Epoch 48 --- \n",
      "train: 100%|██████████| 75/75 [00:10<00:00,  6.98it/s, dice_loss - 0.016]\n",
      "valid: 100%|██████████| 399/399 [00:06<00:00, 62.89it/s, dice_loss - 0.01407, iou_score - 0.68, fscore - 0.7689]\n",
      "\n",
      " --- Epoch 49 --- \n",
      "train: 100%|██████████| 75/75 [00:10<00:00,  6.90it/s, dice_loss - 0.01551]\n",
      "valid: 100%|██████████| 399/399 [00:06<00:00, 63.73it/s, dice_loss - 0.01376, iou_score - 0.6895, fscore - 0.7784]\n",
      "model saved!\n"
     ]
    }
   ],
   "source": [
    "train_epoch = smp.utils.train.TrainEpoch(\n",
    "    model=MODEL,\n",
    "    loss=DICE_LOSS,\n",
    "    metrics=[],\n",
    "    optimizer=OPTIMIZER,\n",
    "    device=DEVICE,\n",
    "    verbose=True\n",
    ")\n",
    "valid_epoch = smp.utils.train.ValidEpoch(\n",
    "    model=MODEL,\n",
    "    loss=DICE_LOSS,\n",
    "    metrics=METRICS,\n",
    "    device=DEVICE,\n",
    "    verbose=True\n",
    ")\n",
    "\n",
    "max_dice_score = 0\n",
    "stats = {\n",
    "    'train_loss' : [],\n",
    "    'valid_loss' : [],\n",
    "    'fscore' : [],\n",
    "    'iou_score' : []\n",
    "}\n",
    "\n",
    "for i in range(50):\n",
    "  print(f'\\n --- Epoch {i} --- ')\n",
    "  train_logs = train_epoch.run(train_loader)\n",
    "  valid_logs = valid_epoch.run(valid_loader)\n",
    "  \n",
    "  if max_dice_score < valid_logs['fscore']:\n",
    "    max_dice_score = valid_logs['fscore']\n",
    "    torch.save(MODEL.state_dict(), f'./model.pth')\n",
    "    print('model saved!')\n",
    "  \n",
    "  # loss statistics\n",
    "  stats['train_loss'].append(train_logs['dice_loss'])\n",
    "  stats['valid_loss'].append(valid_logs['dice_loss'])\n",
    "\n",
    "  # metric statistics\n",
    "  stats['fscore'].append(valid_logs['fscore'])\n",
    "  stats['iou_score'].append(valid_logs['iou_score'])\n",
    "  np.save(f'./model.npy', stats)\n",
    "  \n",
    "  # reduce learning rate\n",
    "  # if i == 40:\n",
    "  #       OPTIMIZER.param_groups[0]['lr'] = 1e-5\n",
    "  #       print('Decrease decoder learning rate to 1e-5!')\n",
    "  "
   ]
  },
  {
   "cell_type": "code",
   "execution_count": 31,
   "id": "10a30ec8",
   "metadata": {
    "execution": {
     "iopub.execute_input": "2025-08-04T10:18:51.081261Z",
     "iopub.status.busy": "2025-08-04T10:18:51.080413Z",
     "iopub.status.idle": "2025-08-04T10:18:51.270863Z",
     "shell.execute_reply": "2025-08-04T10:18:51.270210Z"
    },
    "id": "yyzb_odLX5n4",
    "outputId": "c919412f-d9e5-4f83-b5f3-ce08bc17bc4d",
    "papermill": {
     "duration": 1.510547,
     "end_time": "2025-08-04T10:18:51.272109",
     "exception": false,
     "start_time": "2025-08-04T10:18:49.761562",
     "status": "completed"
    },
    "tags": []
   },
   "outputs": [
    {
     "data": {
      "text/plain": [
       "Text(0.5, 1.0, 'Train and Validation Loss')"
      ]
     },
     "execution_count": 31,
     "metadata": {},
     "output_type": "execute_result"
    },
    {
     "data": {
      "image/png": "[encoded data removed]",
      "text/plain": [
       "<Figure size 640x480 with 1 Axes>"
      ]
     },
     "metadata": {},
     "output_type": "display_data"
    }
   ],
   "source": [
    "STATS = np.load(f'./model.npy', allow_pickle='TRUE').item()\n",
    "plt.plot(STATS['train_loss'], label='train loss')\n",
    "plt.plot(STATS['valid_loss'], label='valid loss')\n",
    "plt.legend(loc='upper right')\n",
    "plt.xlabel('epoch')\n",
    "plt.ylabel('loss')\n",
    "plt.title('Train and Validation Loss')"
   ]
  },
  {
   "cell_type": "code",
   "execution_count": 32,
   "id": "cf71f4c8",
   "metadata": {
    "execution": {
     "iopub.execute_input": "2025-08-04T10:18:53.966099Z",
     "iopub.status.busy": "2025-08-04T10:18:53.965805Z",
     "iopub.status.idle": "2025-08-04T10:18:54.145493Z",
     "shell.execute_reply": "2025-08-04T10:18:54.144726Z"
    },
    "id": "1wLPLiRL84lq",
    "outputId": "4d5888fb-e049-446e-b516-c5f207ec56e8",
    "papermill": {
     "duration": 1.553183,
     "end_time": "2025-08-04T10:18:54.146635",
     "exception": false,
     "start_time": "2025-08-04T10:18:52.593452",
     "status": "completed"
    },
    "tags": []
   },
   "outputs": [
    {
     "data": {
      "text/plain": [
       "Text(0.5, 1.0, 'Fscore')"
      ]
     },
     "execution_count": 32,
     "metadata": {},
     "output_type": "execute_result"
    },
    {
     "data": {
      "image/png": "[encoded data removed]",
      "text/plain": [
       "<Figure size 640x480 with 1 Axes>"
      ]
     },
     "metadata": {},
     "output_type": "display_data"
    }
   ],
   "source": [
    "STATS = np.load(f'./model.npy', allow_pickle='TRUE').item()\n",
    "plt.plot(STATS['fscore'], label='fscore')\n",
    "plt.legend(loc=\"lower right\")\n",
    "plt.ylabel('score')\n",
    "plt.xlabel('epoch')\n",
    "plt.title('Fscore')"
   ]
  },
  {
   "cell_type": "markdown",
   "id": "b8e7d290",
   "metadata": {
    "id": "esJky6Kvpw0T",
    "papermill": {
     "duration": 1.408783,
     "end_time": "2025-08-04T10:18:56.819067",
     "exception": false,
     "start_time": "2025-08-04T10:18:55.410284",
     "status": "completed"
    },
    "tags": []
   },
   "source": [
    "# Test Model"
   ]
  },
  {
   "cell_type": "code",
   "execution_count": 33,
   "id": "9900b77d",
   "metadata": {
    "execution": {
     "iopub.execute_input": "2025-08-04T10:18:59.441691Z",
     "iopub.status.busy": "2025-08-04T10:18:59.441386Z",
     "iopub.status.idle": "2025-08-04T10:18:59.734484Z",
     "shell.execute_reply": "2025-08-04T10:18:59.733654Z"
    },
    "id": "Fb6Y3x9-QsBA",
    "outputId": "e0caa749-71b7-4595-aae0-e224cd36c9c3",
    "papermill": {
     "duration": 1.599097,
     "end_time": "2025-08-04T10:18:59.735635",
     "exception": false,
     "start_time": "2025-08-04T10:18:58.136538",
     "status": "completed"
    },
    "tags": []
   },
   "outputs": [
    {
     "data": {
      "text/plain": [
       "<All keys matched successfully>"
      ]
     },
     "execution_count": 33,
     "metadata": {},
     "output_type": "execute_result"
    }
   ],
   "source": [
    "MODEL.load_state_dict(torch.load('./model.pth'))"
   ]
  },
  {
   "cell_type": "code",
   "execution_count": 34,
   "id": "2015c289",
   "metadata": {
    "execution": {
     "iopub.execute_input": "2025-08-04T10:19:02.359539Z",
     "iopub.status.busy": "2025-08-04T10:19:02.359261Z",
     "iopub.status.idle": "2025-08-04T10:19:24.601983Z",
     "shell.execute_reply": "2025-08-04T10:19:24.600984Z"
    },
    "id": "eNXdVjqu-xRG",
    "outputId": "eaefa315-62e8-448b-effb-8269e1cb91c1",
    "papermill": {
     "duration": 23.553924,
     "end_time": "2025-08-04T10:19:24.603519",
     "exception": false,
     "start_time": "2025-08-04T10:19:01.049595",
     "status": "completed"
    },
    "tags": []
   },
   "outputs": [
    {
     "name": "stdout",
     "output_type": "stream",
     "text": [
      "all 0.765449533417451\n",
      "ncr 0.7680362833277122\n",
      "ed 0.7577432876290623\n",
      "tc 0.8213220706511839\n"
     ]
    }
   ],
   "source": [
    "subregions = {\n",
    "    'all': [0],\n",
    "    'ncr': [0,2,3],\n",
    "    'ed': [0,1,3],\n",
    "    'tc': [0,1,2],\n",
    "}\n",
    "\n",
    "for subregion in subregions:\n",
    "  valid_epoch = smp.utils.train.ValidEpoch(\n",
    "      model=MODEL,\n",
    "      loss=DICE_LOSS,\n",
    "      metrics=[smp.utils.metrics.Fscore(activation='softmax2d', ignore_channels=subregions[subregion])],\n",
    "      device=DEVICE,\n",
    "      verbose=False\n",
    "  )\n",
    "  valid_log = valid_epoch.run(test_loader)\n",
    "  print(subregion, valid_log['fscore'])"
   ]
  },
  {
   "cell_type": "markdown",
   "id": "eb7da4ba",
   "metadata": {
    "id": "RtaStYdtzD4e",
    "papermill": {
     "duration": 1.409053,
     "end_time": "2025-08-04T10:19:27.250127",
     "exception": false,
     "start_time": "2025-08-04T10:19:25.841074",
     "status": "completed"
    },
    "tags": []
   },
   "source": [
    "# Single Scan\n"
   ]
  },
  {
   "cell_type": "code",
   "execution_count": 36,
   "id": "51e397b2",
   "metadata": {
    "execution": {
     "iopub.execute_input": "2025-08-04T10:19:32.525194Z",
     "iopub.status.busy": "2025-08-04T10:19:32.524908Z",
     "iopub.status.idle": "2025-08-04T10:19:32.530767Z",
     "shell.execute_reply": "2025-08-04T10:19:32.530130Z"
    },
    "papermill": {
     "duration": 1.317224,
     "end_time": "2025-08-04T10:19:32.531769",
     "exception": false,
     "start_time": "2025-08-04T10:19:31.214545",
     "status": "completed"
    },
    "tags": []
   },
   "outputs": [
    {
     "data": {
      "text/plain": [
       "[None, None, None, None, None, None, None, None]"
      ]
     },
     "execution_count": 36,
     "metadata": {},
     "output_type": "execute_result"
    }
   ],
   "source": [
    "dirs = [\"gifimg\", \"gifimg/t1\", \"gifimg/t1ce\", \"gifimg/t2\", \"gifimg/flair\", \"gifimg/seg\", \"gifimg/pred\", \"gifimg/label\"]\n",
    "\n",
    "dirs = [\"/kaggle/working/\" + i for i in dirs]\n",
    "[os.makedirs(i, exist_ok=True) for i in dirs]"
   ]
  },
  {
   "cell_type": "code",
   "execution_count": 37,
   "id": "2382e8ee",
   "metadata": {
    "execution": {
     "iopub.execute_input": "2025-08-04T10:19:35.143341Z",
     "iopub.status.busy": "2025-08-04T10:19:35.142718Z",
     "iopub.status.idle": "2025-08-04T10:19:35.781520Z",
     "shell.execute_reply": "2025-08-04T10:19:35.780888Z"
    },
    "id": "BOdB-LYUzGM_",
    "papermill": {
     "duration": 1.94314,
     "end_time": "2025-08-04T10:19:35.782806",
     "exception": false,
     "start_time": "2025-08-04T10:19:33.839666",
     "status": "completed"
    },
    "tags": []
   },
   "outputs": [],
   "source": [
    "c=0\n",
    "for i in range(1):\n",
    "    for name in imgpath:\n",
    "      imgs[name] = loadimg(imgpath[name][i])\n",
    "    \n",
    "    for j in range(155):\n",
    "        for name in imgs:\n",
    "          imgslice[name] = imgs[name][:,:,j]\n",
    "          imgslice[name] = cropcentre(imgslice[name], 128, 128)\n",
    "        \n",
    "        if imgslice['flair'].max() == 0:\n",
    "          continue\n",
    "        imgslice['flair'] *= 255.0/imgslice['flair'].max()\n",
    "        Image.fromarray(imgslice['flair']).convert('L').save(f'./gifimg/img_{c}.png')\n",
    "\n",
    "        for name in ['t1','t2','t1ce','flair']:\n",
    "          imgslice[name] = normalizeslice(imgslice[name])\n",
    "        for name in imgslice:\n",
    "          np.save(f'./gifimg/{name}/img_{c}.npy', imgslice[name])\n",
    "        c+=1       "
   ]
  },
  {
   "cell_type": "code",
   "execution_count": 38,
   "id": "9937ed08",
   "metadata": {
    "execution": {
     "iopub.execute_input": "2025-08-04T10:19:38.444223Z",
     "iopub.status.busy": "2025-08-04T10:19:38.443621Z",
     "iopub.status.idle": "2025-08-04T10:19:46.147346Z",
     "shell.execute_reply": "2025-08-04T10:19:46.146374Z"
    },
    "id": "vRxWVbdL0EmR",
    "outputId": "910add9c-0aaa-46a1-ec6f-aa72e035ca6e",
    "papermill": {
     "duration": 9.013668,
     "end_time": "2025-08-04T10:19:46.148771",
     "exception": false,
     "start_time": "2025-08-04T10:19:37.135103",
     "status": "completed"
    },
    "tags": []
   },
   "outputs": [
    {
     "name": "stdout",
     "output_type": "stream",
     "text": [
      "all 0.7925622042881463\n",
      "ncr 0.8397787753914773\n",
      "ed 0.8309185316829408\n",
      "tc 0.7630790495799491\n"
     ]
    }
   ],
   "source": [
    "gif_dataset = Dataset(datapath='/kaggle/working/gifimg/',\n",
    "                           augmentation=None)\n",
    "\n",
    "gif_loader= DataLoader(gif_dataset,\n",
    "                            batch_size=1,\n",
    "                            num_workers=2,\n",
    "                            shuffle=False)\n",
    "\n",
    "subregions = {\n",
    "    'all': [0],\n",
    "    'ncr': [0,2,3],\n",
    "    'ed': [0,1,3],\n",
    "    'tc': [0,1,2],\n",
    "}\n",
    "\n",
    "for subregion in subregions:\n",
    "  valid_epoch = smp.utils.train.ValidEpoch(\n",
    "      model=MODEL,\n",
    "      loss=DICE_LOSS,\n",
    "      metrics=[smp.utils.metrics.Fscore(activation='softmax2d', ignore_channels=subregions[subregion])],\n",
    "      device=DEVICE,\n",
    "      verbose=False\n",
    "  )\n",
    "  valid_log = valid_epoch.run(gif_loader)\n",
    "  print(subregion, valid_log['fscore'])"
   ]
  },
  {
   "cell_type": "markdown",
   "id": "f59a5572",
   "metadata": {
    "id": "dd8RWw0TwZqg",
    "papermill": {
     "duration": 1.305699,
     "end_time": "2025-08-04T10:19:48.797396",
     "exception": false,
     "start_time": "2025-08-04T10:19:47.491697",
     "status": "completed"
    },
    "tags": []
   },
   "source": [
    "# Coronal/Sagittal View\n"
   ]
  },
  {
   "cell_type": "code",
   "execution_count": 40,
   "id": "62945896",
   "metadata": {
    "execution": {
     "iopub.execute_input": "2025-08-04T10:19:54.040522Z",
     "iopub.status.busy": "2025-08-04T10:19:54.039838Z",
     "iopub.status.idle": "2025-08-04T10:19:54.046271Z",
     "shell.execute_reply": "2025-08-04T10:19:54.045681Z"
    },
    "papermill": {
     "duration": 1.313839,
     "end_time": "2025-08-04T10:19:54.047411",
     "exception": false,
     "start_time": "2025-08-04T10:19:52.733572",
     "status": "completed"
    },
    "tags": []
   },
   "outputs": [
    {
     "data": {
      "text/plain": [
       "[None,\n",
       " None,\n",
       " None,\n",
       " None,\n",
       " None,\n",
       " None,\n",
       " None,\n",
       " None,\n",
       " None,\n",
       " None,\n",
       " None,\n",
       " None,\n",
       " None,\n",
       " None,\n",
       " None,\n",
       " None]"
      ]
     },
     "execution_count": 40,
     "metadata": {},
     "output_type": "execute_result"
    }
   ],
   "source": [
    "dirs = [\"coronal\", \"coronal/t1\", \"coronal/t1ce\", \"coronal/t2\", \"coronal/flair\", \"coronal/seg\", \"coronal/pred\", \"coronal/label\"]\n",
    "dirs += [\"sagittal\", \"sagittal/t1\", \"sagittal/t1ce\", \"sagittal/t2\", \"sagittal/flair\", \"sagittal/seg\", \"sagittal/pred\", \"sagittal/label\"]\n",
    "\n",
    "dirs = [\"/kaggle/working/\" + i for i in dirs]\n",
    "[os.makedirs(i, exist_ok=True) for i in dirs]"
   ]
  },
  {
   "cell_type": "code",
   "execution_count": 41,
   "id": "b00276b0",
   "metadata": {
    "execution": {
     "iopub.execute_input": "2025-08-04T10:19:56.680490Z",
     "iopub.status.busy": "2025-08-04T10:19:56.680195Z",
     "iopub.status.idle": "2025-08-04T10:19:56.684921Z",
     "shell.execute_reply": "2025-08-04T10:19:56.684356Z"
    },
    "papermill": {
     "duration": 1.338418,
     "end_time": "2025-08-04T10:19:56.686035",
     "exception": false,
     "start_time": "2025-08-04T10:19:55.347617",
     "status": "completed"
    },
    "tags": []
   },
   "outputs": [
    {
     "data": {
      "text/plain": [
       "['coronal',\n",
       " 'model.pth',\n",
       " '__notebook__.ipynb',\n",
       " 'model.npy',\n",
       " 'sagittal',\n",
       " 'gifimg',\n",
       " 'dataset']"
      ]
     },
     "execution_count": 41,
     "metadata": {},
     "output_type": "execute_result"
    }
   ],
   "source": [
    "os.listdir(\"./\")"
   ]
  },
  {
   "cell_type": "code",
   "execution_count": null,
   "id": "5f617624",
   "metadata": {
    "papermill": {
     "duration": 1.297195,
     "end_time": "2025-08-04T10:19:59.290117",
     "exception": false,
     "start_time": "2025-08-04T10:19:57.992922",
     "status": "completed"
    },
    "tags": []
   },
   "outputs": [],
   "source": []
  },
  {
   "cell_type": "code",
   "execution_count": 42,
   "id": "e8e06c03",
   "metadata": {
    "execution": {
     "iopub.execute_input": "2025-08-04T10:20:01.912298Z",
     "iopub.status.busy": "2025-08-04T10:20:01.911996Z",
     "iopub.status.idle": "2025-08-04T10:20:03.088945Z",
     "shell.execute_reply": "2025-08-04T10:20:03.088363Z"
    },
    "id": "8slDkz8jVfGL",
    "papermill": {
     "duration": 2.492387,
     "end_time": "2025-08-04T10:20:03.090387",
     "exception": false,
     "start_time": "2025-08-04T10:20:00.598000",
     "status": "completed"
    },
    "tags": []
   },
   "outputs": [],
   "source": [
    "# save a single patient scan of each coronal and sagittal view\n",
    "c=0\n",
    "for i in range(1):\n",
    "    for name in imgpath:\n",
    "      imgs[name] = loadimg(imgpath[name][i])\n",
    "    \n",
    "    for j in range(155):\n",
    "        for name in imgs:\n",
    "          imgslice[name] = imgs[name][:,j,:]\n",
    "          imgslice[name] = cropcentre(imgslice[name], 128, 128)\n",
    "        \n",
    "        if imgslice['flair'].max() == 0:\n",
    "          continue\n",
    "        imgslice['flair'] *= 255.0/imgslice['flair'].max()\n",
    "        Image.fromarray(imgslice['flair']).convert('L').save(f'./coronal/img_{c}.png')\n",
    "        \n",
    "        for name in ['t1','t2','t1ce','flair']:\n",
    "          imgslice[name] = normalizeslice(imgslice[name])\n",
    "        for name in imgslice:\n",
    "          np.save(f'./coronal/{name}/img_{c}.npy', imgslice[name])\n",
    "        c+=1\n",
    "    c=0\n",
    "    for j in range(155):\n",
    "        for name in imgs:\n",
    "          imgslice[name] = imgs[name][j,:,:]\n",
    "          imgslice[name] = cropcentre(imgslice[name], 128, 128)\n",
    "        \n",
    "        if imgslice['flair'].max() == 0:\n",
    "          continue\n",
    "        imgslice['flair'] *= 255.0/imgslice['flair'].max()\n",
    "        Image.fromarray(imgslice['flair']).convert('L').save(f'./sagittal/img_{c}.png')\n",
    "        \n",
    "        for name in ['t1','t2','t1ce','flair']:\n",
    "          imgslice[name] = normalizeslice(imgslice[name])\n",
    "        for name in imgslice:\n",
    "          np.save(f'./sagittal/{name}/img_{c}.npy', imgslice[name])\n",
    "        c+=1"
   ]
  },
  {
   "cell_type": "code",
   "execution_count": 43,
   "id": "f19a96f9",
   "metadata": {
    "execution": {
     "iopub.execute_input": "2025-08-04T10:20:05.710707Z",
     "iopub.status.busy": "2025-08-04T10:20:05.710435Z",
     "iopub.status.idle": "2025-08-04T10:20:05.714920Z",
     "shell.execute_reply": "2025-08-04T10:20:05.714348Z"
    },
    "id": "XPqrCGaBvK9X",
    "papermill": {
     "duration": 1.315647,
     "end_time": "2025-08-04T10:20:05.715938",
     "exception": false,
     "start_time": "2025-08-04T10:20:04.400291",
     "status": "completed"
    },
    "tags": []
   },
   "outputs": [],
   "source": [
    "coronal_dataset = Dataset(datapath='./coronal/',\n",
    "                           augmentation=None)\n",
    "\n",
    "coronal_loader= DataLoader(coronal_dataset,\n",
    "                            batch_size=1,\n",
    "                            num_workers=2,\n",
    "                            shuffle=False)\n",
    "\n",
    "sagittal_dataset = Dataset(datapath='./sagittal/',\n",
    "                           augmentation=None)\n",
    "\n",
    "sagittal_loader= DataLoader(sagittal_dataset,\n",
    "                            batch_size=1,\n",
    "                            num_workers=2,\n",
    "                            shuffle=False)"
   ]
  },
  {
   "cell_type": "code",
   "execution_count": 44,
   "id": "99cfa33d",
   "metadata": {
    "execution": {
     "iopub.execute_input": "2025-08-04T10:20:08.355612Z",
     "iopub.status.busy": "2025-08-04T10:20:08.354447Z",
     "iopub.status.idle": "2025-08-04T10:20:21.230491Z",
     "shell.execute_reply": "2025-08-04T10:20:21.229504Z"
    },
    "id": "o9FMx7MMKGIL",
    "outputId": "18af3dd1-bf5a-4402-99e1-f2d66fab719d",
    "papermill": {
     "duration": 14.179228,
     "end_time": "2025-08-04T10:20:21.231684",
     "exception": false,
     "start_time": "2025-08-04T10:20:07.052456",
     "status": "completed"
    },
    "tags": []
   },
   "outputs": [
    {
     "name": "stdout",
     "output_type": "stream",
     "text": [
      "--- Coronal ---\n",
      "all 0.7886525527111639\n",
      "ncr 0.7611286628417507\n",
      "ed 0.805078922369795\n",
      "tc 0.6952924744790627\n",
      "--- Sagittal ---\n",
      "all 0.46732955348506156\n",
      "ncr 0.8003750433075797\n",
      "ed 0.4665852833147173\n",
      "tc 0.744775562038399\n"
     ]
    }
   ],
   "source": [
    "subregions = {\n",
    "    'all': [0],\n",
    "    'ncr': [0,2,3],\n",
    "    'ed': [0,1,3],\n",
    "    'tc': [0,1,2],\n",
    "}\n",
    "\n",
    "print('--- Coronal ---')\n",
    "for subregion in subregions:\n",
    "  valid_epoch = smp.utils.train.ValidEpoch(\n",
    "      model=MODEL,\n",
    "      loss=DICE_LOSS,\n",
    "      metrics=[smp.utils.metrics.Fscore(activation='softmax2d', ignore_channels=subregions[subregion])],\n",
    "      device=DEVICE,\n",
    "      verbose=False\n",
    "  )\n",
    "  valid_log = valid_epoch.run(coronal_loader)\n",
    "  print(subregion, valid_log['fscore'])\n",
    "\n",
    "print('--- Sagittal ---')\n",
    "for subregion in subregions:\n",
    "  valid_epoch = smp.utils.train.ValidEpoch(\n",
    "      model=MODEL,\n",
    "      loss=DICE_LOSS,\n",
    "      metrics=[smp.utils.metrics.Fscore(activation='softmax2d', ignore_channels=subregions[subregion])],\n",
    "      device=DEVICE,\n",
    "      verbose=False\n",
    "  )\n",
    "  valid_log = valid_epoch.run(sagittal_loader)\n",
    "  print(subregion, valid_log['fscore'])"
   ]
  },
  {
   "cell_type": "markdown",
   "id": "f8c0a28d",
   "metadata": {
    "id": "qBDbzb5EpTE3",
    "papermill": {
     "duration": 1.297647,
     "end_time": "2025-08-04T10:20:23.845496",
     "exception": false,
     "start_time": "2025-08-04T10:20:22.547849",
     "status": "completed"
    },
    "tags": []
   },
   "source": [
    "# Load model/statistics"
   ]
  },
  {
   "cell_type": "code",
   "execution_count": 45,
   "id": "0cc9dd48",
   "metadata": {
    "execution": {
     "iopub.execute_input": "2025-08-04T10:20:26.466045Z",
     "iopub.status.busy": "2025-08-04T10:20:26.465292Z",
     "iopub.status.idle": "2025-08-04T10:20:28.010284Z",
     "shell.execute_reply": "2025-08-04T10:20:28.009422Z"
    },
    "id": "PwIaZfFf5LCl",
    "papermill": {
     "duration": 2.857876,
     "end_time": "2025-08-04T10:20:28.011724",
     "exception": false,
     "start_time": "2025-08-04T10:20:25.153848",
     "status": "completed"
    },
    "tags": []
   },
   "outputs": [],
   "source": [
    "MODEL = smp.Unet(encoder_name='resnet50',\n",
    "                 encoder_depth=5,\n",
    "                 encoder_weights='imagenet',\n",
    "                 decoder_channels=[1024,512,256,128,64],\n",
    "                 in_channels=4,\n",
    "                 classes=4,\n",
    "                 activation=None)\n",
    "\n",
    "MODEL.load_state_dict(torch.load(f'./model.pth'))\n",
    "STATS = np.load(f'./model.npy', allow_pickle='TRUE').item()"
   ]
  }
 ],
 "metadata": {
  "accelerator": "GPU",
  "colab": {
   "collapsed_sections": [
    "JpHVF87SpIUv"
   ],
   "name": "brats2020unet2D.ipynb",
   "provenance": [],
   "toc_visible": true
  },
  "kaggle": {
   "accelerator": "gpu",
   "dataSources": [
    {
     "datasetId": 751906,
     "sourceId": 1299795,
     "sourceType": "datasetVersion"
    }
   ],
   "dockerImageVersionId": 31090,
   "isGpuEnabled": true,
   "isInternetEnabled": true,
   "language": "python",
   "sourceType": "notebook"
  },
  "kernelspec": {
   "display_name": "Python 3",
   "language": "python",
   "name": "python3"
  },
  "language_info": {
   "codemirror_mode": {
    "name": "ipython",
    "version": 3
   },
   "file_extension": ".py",
   "mimetype": "text/x-python",
   "name": "python",
   "nbconvert_exporter": "python",
   "pygments_lexer": "ipython3",
   "version": "3.11.13"
  },
  "papermill": {
   "default_parameters": {},
   "duration": 1121.15545,
   "end_time": "2025-08-04T10:20:32.232802",
   "environment_variables": {},
   "exception": null,
   "input_path": "__notebook__.ipynb",
   "output_path": "__notebook__.ipynb",
   "parameters": {},
   "start_time": "2025-08-04T10:01:51.077352",
   "version": "2.6.0"
  },
  "widgets": {
   "application/vnd.jupyter.widget-state+json": {
    "state": {
     "032ca50fc2cb4741b6f565ba695b6a37": {
      "model_module": "@jupyter-widgets/base",
      "model_module_version": "2.0.0",
      "model_name": "LayoutModel",
      "state": {
       "_model_module": "@jupyter-widgets/base",
       "_model_module_version": "2.0.0",
       "_model_name": "LayoutModel",
       "_view_count": null,
       "_view_module": "@jupyter-widgets/base",
       "_view_module_version": "2.0.0",
       "_view_name": "LayoutView",
       "align_content": null,
       "align_items": null,
       "align_self": null,
       "border_bottom": null,
       "border_left": null,
       "border_right": null,
       "border_top": null,
       "bottom": null,
       "display": null,
       "flex": null,
       "flex_flow": null,
       "grid_area": null,
       "grid_auto_columns": null,
       "grid_auto_flow": null,
       "grid_auto_rows": null,
       "grid_column": null,
       "grid_gap": null,
       "grid_row": null,
       "grid_template_areas": null,
       "grid_template_columns": null,
       "grid_template_rows": null,
       "height": null,
       "justify_content": null,
       "justify_items": null,
       "left": null,
       "margin": null,
       "max_height": null,
       "max_width": null,
       "min_height": null,
       "min_width": null,
       "object_fit": null,
       "object_position": null,
       "order": null,
       "overflow": null,
       "padding": null,
       "right": null,
       "top": null,
       "visibility": null,
       "width": null
      }
     },
     "12289cb2b6dd464ca38968aa025dfcd7": {
      "model_module": "@jupyter-widgets/controls",
      "model_module_version": "2.0.0",
      "model_name": "FloatProgressModel",
      "state": {
       "_dom_classes": [],
       "_model_module": "@jupyter-widgets/controls",
       "_model_module_version": "2.0.0",
       "_model_name": "FloatProgressModel",
       "_view_count": null,
       "_view_module": "@jupyter-widgets/controls",
       "_view_module_version": "2.0.0",
       "_view_name": "ProgressView",
       "bar_style": "success",
       "description": "",
       "description_allow_html": false,
       "layout": "IPY_MODEL_80fa0698625e4ff1ada105189826a985",
       "max": 102464800,
       "min": 0,
       "orientation": "horizontal",
       "style": "IPY_MODEL_7e22ad35b0b446269cb04f02947b8fa6",
       "tabbable": null,
       "tooltip": null,
       "value": 102464800
      }
     },
     "1325350222dc497f89605d0e3d0d9340": {
      "model_module": "@jupyter-widgets/controls",
      "model_module_version": "2.0.0",
      "model_name": "HTMLModel",
      "state": {
       "_dom_classes": [],
       "_model_module": "@jupyter-widgets/controls",
       "_model_module_version": "2.0.0",
       "_model_name": "HTMLModel",
       "_view_count": null,
       "_view_module": "@jupyter-widgets/controls",
       "_view_module_version": "2.0.0",
       "_view_name": "HTMLView",
       "description": "",
       "description_allow_html": false,
       "layout": "IPY_MODEL_3e6b708cc4204d6098a849b2133cd522",
       "placeholder": "​",
       "style": "IPY_MODEL_d2eeac9727a847179a4cd12afc607adc",
       "tabbable": null,
       "tooltip": null,
       "value": "model.safetensors: 100%"
      }
     },
     "20444ad8d6624342b43b1543ae185349": {
      "model_module": "@jupyter-widgets/controls",
      "model_module_version": "2.0.0",
      "model_name": "FloatProgressModel",
      "state": {
       "_dom_classes": [],
       "_model_module": "@jupyter-widgets/controls",
       "_model_module_version": "2.0.0",
       "_model_name": "FloatProgressModel",
       "_view_count": null,
       "_view_module": "@jupyter-widgets/controls",
       "_view_module_version": "2.0.0",
       "_view_name": "ProgressView",
       "bar_style": "success",
       "description": "",
       "description_allow_html": false,
       "layout": "IPY_MODEL_91bec46166d143b4aeba0657bcf9337c",
       "max": 156,
       "min": 0,
       "orientation": "horizontal",
       "style": "IPY_MODEL_80b4e437c6544c4e8525ac37e870562d",
       "tabbable": null,
       "tooltip": null,
       "value": 156
      }
     },
     "24985328b583456ba11d89a29609b341": {
      "model_module": "@jupyter-widgets/base",
      "model_module_version": "2.0.0",
      "model_name": "LayoutModel",
      "state": {
       "_model_module": "@jupyter-widgets/base",
       "_model_module_version": "2.0.0",
       "_model_name": "LayoutModel",
       "_view_count": null,
       "_view_module": "@jupyter-widgets/base",
       "_view_module_version": "2.0.0",
       "_view_name": "LayoutView",
       "align_content": null,
       "align_items": null,
       "align_self": null,
       "border_bottom": null,
       "border_left": null,
       "border_right": null,
       "border_top": null,
       "bottom": null,
       "display": null,
       "flex": null,
       "flex_flow": null,
       "grid_area": null,
       "grid_auto_columns": null,
       "grid_auto_flow": null,
       "grid_auto_rows": null,
       "grid_column": null,
       "grid_gap": null,
       "grid_row": null,
       "grid_template_areas": null,
       "grid_template_columns": null,
       "grid_template_rows": null,
       "height": null,
       "justify_content": null,
       "justify_items": null,
       "left": null,
       "margin": null,
       "max_height": null,
       "max_width": null,
       "min_height": null,
       "min_width": null,
       "object_fit": null,
       "object_position": null,
       "order": null,
       "overflow": null,
       "padding": null,
       "right": null,
       "top": null,
       "visibility": null,
       "width": null
      }
     },
     "3e211cc26e35496b9907b19a31260698": {
      "model_module": "@jupyter-widgets/controls",
      "model_module_version": "2.0.0",
      "model_name": "HTMLModel",
      "state": {
       "_dom_classes": [],
       "_model_module": "@jupyter-widgets/controls",
       "_model_module_version": "2.0.0",
       "_model_name": "HTMLModel",
       "_view_count": null,
       "_view_module": "@jupyter-widgets/controls",
       "_view_module_version": "2.0.0",
       "_view_name": "HTMLView",
       "description": "",
       "description_allow_html": false,
       "layout": "IPY_MODEL_032ca50fc2cb4741b6f565ba695b6a37",
       "placeholder": "​",
       "style": "IPY_MODEL_5c9047c1553a4da19245696a7ad62576",
       "tabbable": null,
       "tooltip": null,
       "value": " 102M/102M [00:00&lt;00:00, 343MB/s]"
      }
     },
     "3e6b708cc4204d6098a849b2133cd522": {
      "model_module": "@jupyter-widgets/base",
      "model_module_version": "2.0.0",
      "model_name": "LayoutModel",
      "state": {
       "_model_module": "@jupyter-widgets/base",
       "_model_module_version": "2.0.0",
       "_model_name": "LayoutModel",
       "_view_count": null,
       "_view_module": "@jupyter-widgets/base",
       "_view_module_version": "2.0.0",
       "_view_name": "LayoutView",
       "align_content": null,
       "align_items": null,
       "align_self": null,
       "border_bottom": null,
       "border_left": null,
       "border_right": null,
       "border_top": null,
       "bottom": null,
       "display": null,
       "flex": null,
       "flex_flow": null,
       "grid_area": null,
       "grid_auto_columns": null,
       "grid_auto_flow": null,
       "grid_auto_rows": null,
       "grid_column": null,
       "grid_gap": null,
       "grid_row": null,
       "grid_template_areas": null,
       "grid_template_columns": null,
       "grid_template_rows": null,
       "height": null,
       "justify_content": null,
       "justify_items": null,
       "left": null,
       "margin": null,
       "max_height": null,
       "max_width": null,
       "min_height": null,
       "min_width": null,
       "object_fit": null,
       "object_position": null,
       "order": null,
       "overflow": null,
       "padding": null,
       "right": null,
       "top": null,
       "visibility": null,
       "width": null
      }
     },
     "5110d486f4dc4799ab1fd249b409317a": {
      "model_module": "@jupyter-widgets/controls",
      "model_module_version": "2.0.0",
      "model_name": "HBoxModel",
      "state": {
       "_dom_classes": [],
       "_model_module": "@jupyter-widgets/controls",
       "_model_module_version": "2.0.0",
       "_model_name": "HBoxModel",
       "_view_count": null,
       "_view_module": "@jupyter-widgets/controls",
       "_view_module_version": "2.0.0",
       "_view_name": "HBoxView",
       "box_style": "",
       "children": [
        "IPY_MODEL_eb21eac0936a468c9d600c4deee4fd4b",
        "IPY_MODEL_20444ad8d6624342b43b1543ae185349",
        "IPY_MODEL_9b09a1bb98c54f4499631448572bc900"
       ],
       "layout": "IPY_MODEL_24985328b583456ba11d89a29609b341",
       "tabbable": null,
       "tooltip": null
      }
     },
     "5c9047c1553a4da19245696a7ad62576": {
      "model_module": "@jupyter-widgets/controls",
      "model_module_version": "2.0.0",
      "model_name": "HTMLStyleModel",
      "state": {
       "_model_module": "@jupyter-widgets/controls",
       "_model_module_version": "2.0.0",
       "_model_name": "HTMLStyleModel",
       "_view_count": null,
       "_view_module": "@jupyter-widgets/base",
       "_view_module_version": "2.0.0",
       "_view_name": "StyleView",
       "background": null,
       "description_width": "",
       "font_size": null,
       "text_color": null
      }
     },
     "68b8779e34a44d42b92f129f0d8a2d73": {
      "model_module": "@jupyter-widgets/controls",
      "model_module_version": "2.0.0",
      "model_name": "HTMLStyleModel",
      "state": {
       "_model_module": "@jupyter-widgets/controls",
       "_model_module_version": "2.0.0",
       "_model_name": "HTMLStyleModel",
       "_view_count": null,
       "_view_module": "@jupyter-widgets/base",
       "_view_module_version": "2.0.0",
       "_view_name": "StyleView",
       "background": null,
       "description_width": "",
       "font_size": null,
       "text_color": null
      }
     },
     "703ae445941b49ddad67687f2fa1d210": {
      "model_module": "@jupyter-widgets/controls",
      "model_module_version": "2.0.0",
      "model_name": "HBoxModel",
      "state": {
       "_dom_classes": [],
       "_model_module": "@jupyter-widgets/controls",
       "_model_module_version": "2.0.0",
       "_model_name": "HBoxModel",
       "_view_count": null,
       "_view_module": "@jupyter-widgets/controls",
       "_view_module_version": "2.0.0",
       "_view_name": "HBoxView",
       "box_style": "",
       "children": [
        "IPY_MODEL_1325350222dc497f89605d0e3d0d9340",
        "IPY_MODEL_12289cb2b6dd464ca38968aa025dfcd7",
        "IPY_MODEL_3e211cc26e35496b9907b19a31260698"
       ],
       "layout": "IPY_MODEL_eadc69dabf2d44ae9a1bb531df512979",
       "tabbable": null,
       "tooltip": null
      }
     },
     "7e22ad35b0b446269cb04f02947b8fa6": {
      "model_module": "@jupyter-widgets/controls",
      "model_module_version": "2.0.0",
      "model_name": "ProgressStyleModel",
      "state": {
       "_model_module": "@jupyter-widgets/controls",
       "_model_module_version": "2.0.0",
       "_model_name": "ProgressStyleModel",
       "_view_count": null,
       "_view_module": "@jupyter-widgets/base",
       "_view_module_version": "2.0.0",
       "_view_name": "StyleView",
       "bar_color": null,
       "description_width": ""
      }
     },
     "80b4e437c6544c4e8525ac37e870562d": {
      "model_module": "@jupyter-widgets/controls",
      "model_module_version": "2.0.0",
      "model_name": "ProgressStyleModel",
      "state": {
       "_model_module": "@jupyter-widgets/controls",
       "_model_module_version": "2.0.0",
       "_model_name": "ProgressStyleModel",
       "_view_count": null,
       "_view_module": "@jupyter-widgets/base",
       "_view_module_version": "2.0.0",
       "_view_name": "StyleView",
       "bar_color": null,
       "description_width": ""
      }
     },
     "80fa0698625e4ff1ada105189826a985": {
      "model_module": "@jupyter-widgets/base",
      "model_module_version": "2.0.0",
      "model_name": "LayoutModel",
      "state": {
       "_model_module": "@jupyter-widgets/base",
       "_model_module_version": "2.0.0",
       "_model_name": "LayoutModel",
       "_view_count": null,
       "_view_module": "@jupyter-widgets/base",
       "_view_module_version": "2.0.0",
       "_view_name": "LayoutView",
       "align_content": null,
       "align_items": null,
       "align_self": null,
       "border_bottom": null,
       "border_left": null,
       "border_right": null,
       "border_top": null,
       "bottom": null,
       "display": null,
       "flex": null,
       "flex_flow": null,
       "grid_area": null,
       "grid_auto_columns": null,
       "grid_auto_flow": null,
       "grid_auto_rows": null,
       "grid_column": null,
       "grid_gap": null,
       "grid_row": null,
       "grid_template_areas": null,
       "grid_template_columns": null,
       "grid_template_rows": null,
       "height": null,
       "justify_content": null,
       "justify_items": null,
       "left": null,
       "margin": null,
       "max_height": null,
       "max_width": null,
       "min_height": null,
       "min_width": null,
       "object_fit": null,
       "object_position": null,
       "order": null,
       "overflow": null,
       "padding": null,
       "right": null,
       "top": null,
       "visibility": null,
       "width": null
      }
     },
     "88931c4ff6024f03887119f3ca5acf5a": {
      "model_module": "@jupyter-widgets/controls",
      "model_module_version": "2.0.0",
      "model_name": "HTMLStyleModel",
      "state": {
       "_model_module": "@jupyter-widgets/controls",
       "_model_module_version": "2.0.0",
       "_model_name": "HTMLStyleModel",
       "_view_count": null,
       "_view_module": "@jupyter-widgets/base",
       "_view_module_version": "2.0.0",
       "_view_name": "StyleView",
       "background": null,
       "description_width": "",
       "font_size": null,
       "text_color": null
      }
     },
     "91bec46166d143b4aeba0657bcf9337c": {
      "model_module": "@jupyter-widgets/base",
      "model_module_version": "2.0.0",
      "model_name": "LayoutModel",
      "state": {
       "_model_module": "@jupyter-widgets/base",
       "_model_module_version": "2.0.0",
       "_model_name": "LayoutModel",
       "_view_count": null,
       "_view_module": "@jupyter-widgets/base",
       "_view_module_version": "2.0.0",
       "_view_name": "LayoutView",
       "align_content": null,
       "align_items": null,
       "align_self": null,
       "border_bottom": null,
       "border_left": null,
       "border_right": null,
       "border_top": null,
       "bottom": null,
       "display": null,
       "flex": null,
       "flex_flow": null,
       "grid_area": null,
       "grid_auto_columns": null,
       "grid_auto_flow": null,
       "grid_auto_rows": null,
       "grid_column": null,
       "grid_gap": null,
       "grid_row": null,
       "grid_template_areas": null,
       "grid_template_columns": null,
       "grid_template_rows": null,
       "height": null,
       "justify_content": null,
       "justify_items": null,
       "left": null,
       "margin": null,
       "max_height": null,
       "max_width": null,
       "min_height": null,
       "min_width": null,
       "object_fit": null,
       "object_position": null,
       "order": null,
       "overflow": null,
       "padding": null,
       "right": null,
       "top": null,
       "visibility": null,
       "width": null
      }
     },
     "9b09a1bb98c54f4499631448572bc900": {
      "model_module": "@jupyter-widgets/controls",
      "model_module_version": "2.0.0",
      "model_name": "HTMLModel",
      "state": {
       "_dom_classes": [],
       "_model_module": "@jupyter-widgets/controls",
       "_model_module_version": "2.0.0",
       "_model_name": "HTMLModel",
       "_view_count": null,
       "_view_module": "@jupyter-widgets/controls",
       "_view_module_version": "2.0.0",
       "_view_name": "HTMLView",
       "description": "",
       "description_allow_html": false,
       "layout": "IPY_MODEL_9f6d390d4cbc4377a6cd628a3a533cf9",
       "placeholder": "​",
       "style": "IPY_MODEL_88931c4ff6024f03887119f3ca5acf5a",
       "tabbable": null,
       "tooltip": null,
       "value": " 156/156 [00:00&lt;00:00, 18.5kB/s]"
      }
     },
     "9f6d390d4cbc4377a6cd628a3a533cf9": {
      "model_module": "@jupyter-widgets/base",
      "model_module_version": "2.0.0",
      "model_name": "LayoutModel",
      "state": {
       "_model_module": "@jupyter-widgets/base",
       "_model_module_version": "2.0.0",
       "_model_name": "LayoutModel",
       "_view_count": null,
       "_view_module": "@jupyter-widgets/base",
       "_view_module_version": "2.0.0",
       "_view_name": "LayoutView",
       "align_content": null,
       "align_items": null,
       "align_self": null,
       "border_bottom": null,
       "border_left": null,
       "border_right": null,
       "border_top": null,
       "bottom": null,
       "display": null,
       "flex": null,
       "flex_flow": null,
       "grid_area": null,
       "grid_auto_columns": null,
       "grid_auto_flow": null,
       "grid_auto_rows": null,
       "grid_column": null,
       "grid_gap": null,
       "grid_row": null,
       "grid_template_areas": null,
       "grid_template_columns": null,
       "grid_template_rows": null,
       "height": null,
       "justify_content": null,
       "justify_items": null,
       "left": null,
       "margin": null,
       "max_height": null,
       "max_width": null,
       "min_height": null,
       "min_width": null,
       "object_fit": null,
       "object_position": null,
       "order": null,
       "overflow": null,
       "padding": null,
       "right": null,
       "top": null,
       "visibility": null,
       "width": null
      }
     },
     "b47f2085bdd749caa17e0849f1722500": {
      "model_module": "@jupyter-widgets/base",
      "model_module_version": "2.0.0",
      "model_name": "LayoutModel",
      "state": {
       "_model_module": "@jupyter-widgets/base",
       "_model_module_version": "2.0.0",
       "_model_name": "LayoutModel",
       "_view_count": null,
       "_view_module": "@jupyter-widgets/base",
       "_view_module_version": "2.0.0",
       "_view_name": "LayoutView",
       "align_content": null,
       "align_items": null,
       "align_self": null,
       "border_bottom": null,
       "border_left": null,
       "border_right": null,
       "border_top": null,
       "bottom": null,
       "display": null,
       "flex": null,
       "flex_flow": null,
       "grid_area": null,
       "grid_auto_columns": null,
       "grid_auto_flow": null,
       "grid_auto_rows": null,
       "grid_column": null,
       "grid_gap": null,
       "grid_row": null,
       "grid_template_areas": null,
       "grid_template_columns": null,
       "grid_template_rows": null,
       "height": null,
       "justify_content": null,
       "justify_items": null,
       "left": null,
       "margin": null,
       "max_height": null,
       "max_width": null,
       "min_height": null,
       "min_width": null,
       "object_fit": null,
       "object_position": null,
       "order": null,
       "overflow": null,
       "padding": null,
       "right": null,
       "top": null,
       "visibility": null,
       "width": null
      }
     },
     "d2eeac9727a847179a4cd12afc607adc": {
      "model_module": "@jupyter-widgets/controls",
      "model_module_version": "2.0.0",
      "model_name": "HTMLStyleModel",
      "state": {
       "_model_module": "@jupyter-widgets/controls",
       "_model_module_version": "2.0.0",
       "_model_name": "HTMLStyleModel",
       "_view_count": null,
       "_view_module": "@jupyter-widgets/base",
       "_view_module_version": "2.0.0",
       "_view_name": "StyleView",
       "background": null,
       "description_width": "",
       "font_size": null,
       "text_color": null
      }
     },
     "eadc69dabf2d44ae9a1bb531df512979": {
      "model_module": "@jupyter-widgets/base",
      "model_module_version": "2.0.0",
      "model_name": "LayoutModel",
      "state": {
       "_model_module": "@jupyter-widgets/base",
       "_model_module_version": "2.0.0",
       "_model_name": "LayoutModel",
       "_view_count": null,
       "_view_module": "@jupyter-widgets/base",
       "_view_module_version": "2.0.0",
       "_view_name": "LayoutView",
       "align_content": null,
       "align_items": null,
       "align_self": null,
       "border_bottom": null,
       "border_left": null,
       "border_right": null,
       "border_top": null,
       "bottom": null,
       "display": null,
       "flex": null,
       "flex_flow": null,
       "grid_area": null,
       "grid_auto_columns": null,
       "grid_auto_flow": null,
       "grid_auto_rows": null,
       "grid_column": null,
       "grid_gap": null,
       "grid_row": null,
       "grid_template_areas": null,
       "grid_template_columns": null,
       "grid_template_rows": null,
       "height": null,
       "justify_content": null,
       "justify_items": null,
       "left": null,
       "margin": null,
       "max_height": null,
       "max_width": null,
       "min_height": null,
       "min_width": null,
       "object_fit": null,
       "object_position": null,
       "order": null,
       "overflow": null,
       "padding": null,
       "right": null,
       "top": null,
       "visibility": null,
       "width": null
      }
     },
     "eb21eac0936a468c9d600c4deee4fd4b": {
      "model_module": "@jupyter-widgets/controls",
      "model_module_version": "2.0.0",
      "model_name": "HTMLModel",
      "state": {
       "_dom_classes": [],
       "_model_module": "@jupyter-widgets/controls",
       "_model_module_version": "2.0.0",
       "_model_name": "HTMLModel",
       "_view_count": null,
       "_view_module": "@jupyter-widgets/controls",
       "_view_module_version": "2.0.0",
       "_view_name": "HTMLView",
       "description": "",
       "description_allow_html": false,
       "layout": "IPY_MODEL_b47f2085bdd749caa17e0849f1722500",
       "placeholder": "​",
       "style": "IPY_MODEL_68b8779e34a44d42b92f129f0d8a2d73",
       "tabbable": null,
       "tooltip": null,
       "value": "config.json: 100%"
      }
     }
    },
    "version_major": 2,
    "version_minor": 0
   }
  }
 },
 "nbformat": 4,
 "nbformat_minor": 5
}
